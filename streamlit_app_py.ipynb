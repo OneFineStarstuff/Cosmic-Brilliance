{
  "nbformat": 4,
  "nbformat_minor": 0,
  "metadata": {
    "colab": {
      "private_outputs": true,
      "provenance": [],
      "authorship_tag": "ABX9TyMbtT925kxg9MFGabkJGWxI",
      "include_colab_link": true
    },
    "kernelspec": {
      "name": "python3",
      "display_name": "Python 3"
    },
    "language_info": {
      "name": "python"
    }
  },
  "cells": [
    {
      "cell_type": "markdown",
      "metadata": {
        "id": "view-in-github",
        "colab_type": "text"
      },
      "source": [
        "<a href=\"https://colab.research.google.com/github/OneFineStarstuff/Cosmic-Brilliance/blob/main/streamlit_app_py.ipynb\" target=\"_parent\"><img src=\"https://colab.research.google.com/assets/colab-badge.svg\" alt=\"Open In Colab\"/></a>"
      ]
    },
    {
      "cell_type": "code",
      "source": [
        "!pip install streamlit"
      ],
      "metadata": {
        "id": "RMD7wYyEb07I"
      },
      "execution_count": null,
      "outputs": []
    },
    {
      "cell_type": "code",
      "execution_count": null,
      "metadata": {
        "id": "ENdYw0-kbSvL"
      },
      "outputs": [],
      "source": [
        "import streamlit as st\n",
        "import pandas as pd\n",
        "import numpy as np\n",
        "\n",
        "# -------------------------------\n",
        "# Page config\n",
        "# -------------------------------\n",
        "st.set_page_config(\n",
        "    page_title=\"Semantic Diversity Analyzer\",\n",
        "    page_icon=\"📊\",\n",
        "    layout=\"centered\"\n",
        ")\n",
        "\n",
        "st.title(\"📊 Semantic Diversity Analyzer\")\n",
        "st.write(\n",
        "    \"Upload your dataset and I’ll calculate the mean semantic diversity score.\"\n",
        ")\n",
        "\n",
        "# -------------------------------\n",
        "# File upload\n",
        "# -------------------------------\n",
        "uploaded_file = st.file_uploader(\"Choose a CSV file\", type=[\"csv\"])\n",
        "if uploaded_file is not None:\n",
        "    try:\n",
        "        df = pd.read_csv(uploaded_file)\n",
        "\n",
        "        st.subheader(\"Preview of Uploaded Data\")\n",
        "        st.dataframe(df.head())\n",
        "\n",
        "        # -------------------------------\n",
        "        # Example calculation:\n",
        "        # We'll treat the numeric columns as 'semantic embeddings'\n",
        "        # This is just placeholder logic—you can swap in your real diversity calc.\n",
        "        # -------------------------------\n",
        "        numeric_df = df.select_dtypes(include=[np.number])\n",
        "        if not numeric_df.empty:\n",
        "            # Simulated \"semantic diversity\" metric\n",
        "            # Replace this with your actual algorithm\n",
        "            diversity = numeric_df.std(axis=1).mean()\n",
        "\n",
        "            # Clean single‑line display to avoid unterminated f‑string issues\n",
        "            st.info(\n",
        "                f\"📊 Mean semantic diversity: **{diversity:.3f}** _(0 = identical, 1 = max)_\"\n",
        "            )\n",
        "        else:\n",
        "            st.warning(\"No numeric columns found to compute diversity.\")\n",
        "\n",
        "    except Exception as e:\n",
        "        st.error(f\"Error reading file: {e}\")\n",
        "else:\n",
        "    st.caption(\"Awaiting file upload…\")\n",
        "\n",
        "# -------------------------------\n",
        "# Footer\n",
        "# -------------------------------\n",
        "st.markdown(\"---\")\n",
        "st.markdown(\n",
        "    \"Built with ❤️ using [Streamlit](https://streamlit.io) — replace the \"\n",
        "    \"placeholder metric with your actual semantic diversity function.\"\n",
        ")"
      ]
    }
  ]
}