{
  "nbformat": 4,
  "nbformat_minor": 0,
  "metadata": {
    "colab": {
      "private_outputs": true,
      "provenance": [],
      "authorship_tag": "ABX9TyPQe4wpkqH41dFnL8S/EPa1",
      "include_colab_link": true
    },
    "kernelspec": {
      "name": "python3",
      "display_name": "Python 3"
    },
    "language_info": {
      "name": "python"
    }
  },
  "cells": [
    {
      "cell_type": "markdown",
      "metadata": {
        "id": "view-in-github",
        "colab_type": "text"
      },
      "source": [
        "<a href=\"https://colab.research.google.com/github/OneFineStarstuff/Cosmic-Brilliance/blob/main/always_verbose_traceback_py.ipynb\" target=\"_parent\"><img src=\"https://colab.research.google.com/assets/colab-badge.svg\" alt=\"Open In Colab\"/></a>"
      ]
    },
    {
      "cell_type": "code",
      "execution_count": null,
      "metadata": {
        "id": "ohH7oUZ-rnEE"
      },
      "outputs": [],
      "source": [
        "#!/usr/bin/env python3\n",
        "\"\"\"\n",
        "always_verbose_traceback.py\n",
        "\n",
        "Installs a custom excepthook so all exceptions (even SystemExit) show complete tracebacks.\n",
        "\"\"\"\n",
        "\n",
        "import sys\n",
        "import traceback\n",
        "\n",
        "def verbose_excepthook(exc_type, exc_value, exc_tb):\n",
        "    # Always print the full traceback\n",
        "    traceback.print_exception(exc_type, exc_value, exc_tb)\n",
        "    # If it’s SystemExit, still exit; otherwise, keep going\n",
        "    if exc_type is SystemExit:\n",
        "        sys.exit(exc_value)\n",
        "\n",
        "# Install our hook\n",
        "sys.excepthook = verbose_excepthook\n",
        "\n",
        "def main():\n",
        "    raise SystemExit(\"Final AGI State: Never Existed.\")\n",
        "\n",
        "if __name__ == \"__main__\":\n",
        "    main()"
      ]
    }
  ]
}