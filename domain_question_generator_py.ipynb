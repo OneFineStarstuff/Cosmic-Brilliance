{
  "nbformat": 4,
  "nbformat_minor": 0,
  "metadata": {
    "colab": {
      "private_outputs": true,
      "provenance": [],
      "authorship_tag": "ABX9TyO1ogvWB3q6M/nKwfz4g2cO",
      "include_colab_link": true
    },
    "kernelspec": {
      "name": "python3",
      "display_name": "Python 3"
    },
    "language_info": {
      "name": "python"
    }
  },
  "cells": [
    {
      "cell_type": "markdown",
      "metadata": {
        "id": "view-in-github",
        "colab_type": "text"
      },
      "source": [
        "<a href=\"https://colab.research.google.com/github/OneFineStarstuff/Cosmic-Brilliance/blob/main/domain_question_generator_py.ipynb\" target=\"_parent\"><img src=\"https://colab.research.google.com/assets/colab-badge.svg\" alt=\"Open In Colab\"/></a>"
      ]
    },
    {
      "cell_type": "code",
      "execution_count": null,
      "metadata": {
        "id": "8J9wzkFBV42I"
      },
      "outputs": [],
      "source": [
        "\"\"\"\n",
        "domain_question_generator.py\n",
        "\n",
        "Generate interdisciplinary, exploratory, and conceptually deep open-ended\n",
        "questions from a given domain and inspiring idea.\n",
        "\n",
        "This script includes a stub for `generate_open_ended_questions` so it runs\n",
        "immediately. Replace that stub with your actual implementation when ready.\n",
        "\"\"\"\n",
        "\n",
        "# Template for the question generation prompt\n",
        "DOMAIN_PROMPT = \"\"\"\n",
        "Generate an open-ended question in the domain of {domain}, inspired by the following idea:\n",
        "\"{idea}\"\n",
        "\n",
        "Make the question interdisciplinary, exploratory, and conceptually deep.\n",
        "\"\"\"\n",
        "\n",
        "def generate_open_ended_questions(prompt: str, n: int = 1):\n",
        "    \"\"\"\n",
        "    Stub function for demo purposes.\n",
        "    Replace with your actual generator logic.\n",
        "    \"\"\"\n",
        "    # Here we just fake output for demonstration\n",
        "    return [f\"[GENERATED QUESTION] {prompt.strip()}\"] * n\n",
        "\n",
        "def generate_domain_question(domain: str, idea: str) -> str:\n",
        "    \"\"\"\n",
        "    Formats the prompt using the provided domain and idea,\n",
        "    calls the open-ended question generator, and returns the first question.\n",
        "    \"\"\"\n",
        "    prompt = DOMAIN_PROMPT.format(domain=domain, idea=idea)\n",
        "    return generate_open_ended_questions(prompt, n=1)[0]\n",
        "\n",
        "def main():\n",
        "    \"\"\"\n",
        "    Entry point: generates and prints questions for several domain/idea pairs.\n",
        "    \"\"\"\n",
        "    examples = [\n",
        "        (\"quantum gravity\", \"emergent space-time from entanglement\"),\n",
        "        (\"ethics of AGI\", \"recursive self-improvement in autonomous systems\"),\n",
        "        (\"meta-mathematics\", \"Gödel incompleteness and computational universes\"),\n",
        "    ]\n",
        "\n",
        "    for domain, idea in examples:\n",
        "        question = generate_domain_question(domain, idea)\n",
        "        print(f\"\\nDomain: {domain}\\nIdea: {idea}\\nQuestion: {question}\")\n",
        "\n",
        "if __name__ == \"__main__\":\n",
        "    main()"
      ]
    }
  ]
}