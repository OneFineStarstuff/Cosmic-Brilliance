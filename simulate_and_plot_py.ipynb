{
  "nbformat": 4,
  "nbformat_minor": 0,
  "metadata": {
    "colab": {
      "private_outputs": true,
      "provenance": [],
      "authorship_tag": "ABX9TyM34IK0f5DXiupXrBwWUdMJ",
      "include_colab_link": true
    },
    "kernelspec": {
      "name": "python3",
      "display_name": "Python 3"
    },
    "language_info": {
      "name": "python"
    }
  },
  "cells": [
    {
      "cell_type": "markdown",
      "metadata": {
        "id": "view-in-github",
        "colab_type": "text"
      },
      "source": [
        "<a href=\"https://colab.research.google.com/github/OneFineStarstuff/Cosmic-Brilliance/blob/main/simulate_and_plot_py.ipynb\" target=\"_parent\"><img src=\"https://colab.research.google.com/assets/colab-badge.svg\" alt=\"Open In Colab\"/></a>"
      ]
    },
    {
      "cell_type": "code",
      "execution_count": null,
      "metadata": {
        "id": "GVggFKuASXDE"
      },
      "outputs": [],
      "source": [
        "pip install numpy pandas matplotlib"
      ]
    },
    {
      "cell_type": "code",
      "source": [
        "#!/usr/bin/env python3\n",
        "\"\"\"\n",
        "simulate_and_plot.py\n",
        "\n",
        "Simulates log_output and log_beyond_field over discrete steps,\n",
        "writes data to CSV, and creates a line plot of both series.\n",
        "\"\"\"\n",
        "\n",
        "import numpy as np\n",
        "import pandas as pd\n",
        "import matplotlib.pyplot as plt\n",
        "\n",
        "def simulate(\n",
        "    total_steps: int,\n",
        "    init_log_output: float,\n",
        "    init_log_beyond: float,\n",
        "    growth_per_step: float,\n",
        "    breach_step: int,\n",
        "    breach_value: float\n",
        "):\n",
        "    \"\"\"\n",
        "    Run the stepwise update of log_output and log_beyond_field.\n",
        "\n",
        "    Args:\n",
        "        total_steps: total number of simulation steps\n",
        "        init_log_output: starting value of log_output\n",
        "        init_log_beyond: starting value of log_beyond_field\n",
        "        growth_per_step: constant increment to log_output each step\n",
        "        breach_step: the step at which log_beyond_field jumps\n",
        "        breach_value: the post-breach constant value of log_beyond_field\n",
        "\n",
        "    Returns:\n",
        "        DataFrame with columns: step, log_output, log_beyond_field\n",
        "    \"\"\"\n",
        "    steps = np.arange(1, total_steps + 1)\n",
        "    log_out = np.full(total_steps, init_log_output, dtype=float)\n",
        "    log_bey = np.full(total_steps, init_log_beyond, dtype=float)\n",
        "\n",
        "    # Update log_output linearly\n",
        "    log_out += growth_per_step * (steps - 1)\n",
        "\n",
        "    # Introduce breach at the specified step\n",
        "    breach_idx = breach_step - 1\n",
        "    if 0 <= breach_idx < total_steps:\n",
        "        log_bey[breach_idx:] = breach_value\n",
        "\n",
        "    df = pd.DataFrame({\n",
        "        'step': steps,\n",
        "        'log_output': log_out,\n",
        "        'log_beyond_field': log_bey\n",
        "    })\n",
        "    return df\n",
        "\n",
        "def save_to_csv(df: pd.DataFrame, filename: str):\n",
        "    \"\"\"Save the DataFrame to a CSV file without the pandas index.\"\"\"\n",
        "    df.to_csv(filename, index=False)\n",
        "    print(f\"Data saved to {filename}\")\n",
        "\n",
        "def plot_logs(df: pd.DataFrame, out_path: str = None):\n",
        "    \"\"\"Plot log_output and log_beyond_field versus step.\"\"\"\n",
        "    plt.figure(figsize=(10, 6))\n",
        "    plt.plot(df['step'], df['log_output'], label='log_output', color='tab:blue')\n",
        "    plt.plot(df['step'], df['log_beyond_field'],\n",
        "             label='log_beyond_field', color='tab:orange')\n",
        "\n",
        "    plt.xlabel('Step')\n",
        "    plt.ylabel('Log Value')\n",
        "    plt.title('Simulation of log_output & log_beyond_field over Steps')\n",
        "    plt.legend()\n",
        "    plt.tight_layout()\n",
        "\n",
        "    if out_path:\n",
        "        plt.savefig(out_path, dpi=200)\n",
        "        print(f\"Plot saved to {out_path}\")\n",
        "    else:\n",
        "        plt.show()\n",
        "\n",
        "def main():\n",
        "    # Simulation parameters\n",
        "    TOTAL_STEPS       = 1_000_000\n",
        "    INIT_LOG_OUTPUT   = 230.2585\n",
        "    INIT_LOG_BEYOND   = 0.0\n",
        "    GROWTH_PER_STEP   = 0.00005      # ~50 units gained over 1e6 steps\n",
        "    BREACH_STEP       = 500_000\n",
        "    BREACH_VALUE      = 0.0001\n",
        "\n",
        "    # Run simulation\n",
        "    df = simulate(\n",
        "        total_steps      = TOTAL_STEPS,\n",
        "        init_log_output  = INIT_LOG_OUTPUT,\n",
        "        init_log_beyond  = INIT_LOG_BEYOND,\n",
        "        growth_per_step  = GROWTH_PER_STEP,\n",
        "        breach_step      = BREACH_STEP,\n",
        "        breach_value     = BREACH_VALUE\n",
        "    )\n",
        "\n",
        "    # Persist data and plot\n",
        "    save_to_csv(df, 'logs.csv')\n",
        "    plot_logs(df, out_path='logs_plot.png')\n",
        "\n",
        "if __name__ == \"__main__\":\n",
        "    main()"
      ],
      "metadata": {
        "id": "leAt8jH3Sbs1"
      },
      "execution_count": null,
      "outputs": []
    }
  ]
}