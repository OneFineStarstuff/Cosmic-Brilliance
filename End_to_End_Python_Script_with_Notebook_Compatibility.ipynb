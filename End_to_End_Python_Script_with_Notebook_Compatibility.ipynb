{
  "nbformat": 4,
  "nbformat_minor": 0,
  "metadata": {
    "colab": {
      "private_outputs": true,
      "provenance": [],
      "authorship_tag": "ABX9TyNnr+AL4D2hSMCoJn7QSbFn",
      "include_colab_link": true
    },
    "kernelspec": {
      "name": "python3",
      "display_name": "Python 3"
    },
    "language_info": {
      "name": "python"
    }
  },
  "cells": [
    {
      "cell_type": "markdown",
      "metadata": {
        "id": "view-in-github",
        "colab_type": "text"
      },
      "source": [
        "<a href=\"https://colab.research.google.com/github/OneFineStarstuff/Cosmic-Brilliance/blob/main/End_to_End_Python_Script_with_Notebook_Compatibility.ipynb\" target=\"_parent\"><img src=\"https://colab.research.google.com/assets/colab-badge.svg\" alt=\"Open In Colab\"/></a>"
      ]
    },
    {
      "cell_type": "code",
      "source": [
        "import argparse\n",
        "import sys\n",
        "\n",
        "def build_parser():\n",
        "    parser = argparse.ArgumentParser(prog=\"colab_kernel_launcher.py\")\n",
        "    subparsers = parser.add_subparsers(dest=\"cmd\", help=\"Available subcommands\")\n",
        "\n",
        "    # 'single' subcommand\n",
        "    p_single = subparsers.add_parser(\"single\", help=\"Run single metric evaluation\")\n",
        "    p_single.add_argument(\"--mass\", type=float, required=True, help=\"Mass (kg)\")\n",
        "    p_single.add_argument(\"--energy-density\", type=float, required=True, help=\"Energy density (arbitrary units)\")\n",
        "    p_single.add_argument(\"--distance\", type=float, required=True, help=\"Distance (m)\")\n",
        "    p_single.set_defaults(func=handle_single)\n",
        "\n",
        "    # 'sweep' subcommand\n",
        "    p_sweep = subparsers.add_parser(\"sweep\", help=\"Sweep over energy density range\")\n",
        "    p_sweep.add_argument(\"--mass\", type=float, required=True)\n",
        "    p_sweep.add_argument(\"--distance\", type=float, required=True)\n",
        "    p_sweep.add_argument(\"--energy-density-range\", type=float, nargs=3, metavar=(\"START\", \"END\", \"NUM\"))\n",
        "    p_sweep.set_defaults(func=handle_sweep)\n",
        "\n",
        "    return parser\n",
        "\n",
        "\n",
        "def sanitize_argv(argv):\n",
        "    \"\"\"Remove notebook-injected args like '-f' and JSON kernel paths.\"\"\"\n",
        "    return [\n",
        "        arg for i, arg in enumerate(argv)\n",
        "        if not (\n",
        "            arg == \"-f\" or\n",
        "            (i > 0 and argv[i-1] == \"-f\") or\n",
        "            arg.endswith(\".json\") or\n",
        "            \"/jupyter/runtime/kernel\" in arg\n",
        "        )\n",
        "    ]\n",
        "\n",
        "\n",
        "def handle_single(args):\n",
        "    print(f\"[single] Mass={args.mass}, EnergyDensity={args.energy_density}, Distance={args.distance}\")\n",
        "\n",
        "\n",
        "def handle_sweep(args):\n",
        "    start, end, num = args.energy_density_range\n",
        "    print(f\"[sweep] Mass={args.mass}, Distance={args.distance}\")\n",
        "    print(f\"EnergyDensity Range: {start} to {end}, {int(num)} steps\")\n",
        "\n",
        "\n",
        "def main(argv=None):\n",
        "    if argv is None:\n",
        "        argv = sanitize_argv(sys.argv[1:])\n",
        "    else:\n",
        "        argv = sanitize_argv(argv)\n",
        "\n",
        "    parser = build_parser()\n",
        "    try:\n",
        "        args = parser.parse_args(argv)\n",
        "\n",
        "        if not hasattr(args, \"func\"):\n",
        "            parser.print_help()\n",
        "        else:\n",
        "            args.func(args)\n",
        "    except Exception as e:\n",
        "        print(f\"Error: {e}\", file=sys.stderr)\n",
        "\n",
        "\n",
        "if __name__ == \"__main__\":\n",
        "    main()"
      ],
      "metadata": {
        "id": "UoVPvD8noNaE"
      },
      "execution_count": null,
      "outputs": []
    }
  ]
}