{
  "nbformat": 4,
  "nbformat_minor": 0,
  "metadata": {
    "colab": {
      "private_outputs": true,
      "provenance": [],
      "authorship_tag": "ABX9TyPLfozmG3ZobKLRd8qaqpqO",
      "include_colab_link": true
    },
    "kernelspec": {
      "name": "python3",
      "display_name": "Python 3"
    },
    "language_info": {
      "name": "python"
    }
  },
  "cells": [
    {
      "cell_type": "markdown",
      "metadata": {
        "id": "view-in-github",
        "colab_type": "text"
      },
      "source": [
        "<a href=\"https://colab.research.google.com/github/OneFineStarstuff/Cosmic-Brilliance/blob/main/file_e2ee_py.ipynb\" target=\"_parent\"><img src=\"https://colab.research.google.com/assets/colab-badge.svg\" alt=\"Open In Colab\"/></a>"
      ]
    },
    {
      "cell_type": "code",
      "execution_count": null,
      "metadata": {
        "id": "gNH3sbNRhFHa"
      },
      "outputs": [],
      "source": [
        "# file_e2ee.py\n",
        "from cryptography.fernet import Fernet\n",
        "from pathlib import Path\n",
        "\n",
        "def encrypt_file(key: bytes, src: Path, dst: Path):\n",
        "    f = Fernet(key)\n",
        "    data = src.read_bytes()\n",
        "    dst.write_bytes(f.encrypt(data))\n",
        "\n",
        "def decrypt_file(key: bytes, src: Path, dst: Path):\n",
        "    f = Fernet(key)\n",
        "    token = src.read_bytes()\n",
        "    dst.write_bytes(f.decrypt(token))\n",
        "\n",
        "if __name__ == \"__main__\":\n",
        "    key = Fernet.generate_key()\n",
        "    encrypt_file(key, Path(\"input.txt\"), Path(\"input.txt.enc\"))\n",
        "    decrypt_file(key, Path(\"input.txt.enc\"), Path(\"input.txt.dec\"))"
      ]
    }
  ]
}