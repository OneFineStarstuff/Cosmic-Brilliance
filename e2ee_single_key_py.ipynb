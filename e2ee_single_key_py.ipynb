{
  "nbformat": 4,
  "nbformat_minor": 0,
  "metadata": {
    "colab": {
      "private_outputs": true,
      "provenance": [],
      "authorship_tag": "ABX9TyP23wL+avaioZ+Zm+Sea2T4",
      "include_colab_link": true
    },
    "kernelspec": {
      "name": "python3",
      "display_name": "Python 3"
    },
    "language_info": {
      "name": "python"
    }
  },
  "cells": [
    {
      "cell_type": "markdown",
      "metadata": {
        "id": "view-in-github",
        "colab_type": "text"
      },
      "source": [
        "<a href=\"https://colab.research.google.com/github/OneFineStarstuff/Cosmic-Brilliance/blob/main/e2ee_single_key_py.ipynb\" target=\"_parent\"><img src=\"https://colab.research.google.com/assets/colab-badge.svg\" alt=\"Open In Colab\"/></a>"
      ]
    },
    {
      "cell_type": "code",
      "execution_count": null,
      "metadata": {
        "id": "QqEw8capgYE9"
      },
      "outputs": [],
      "source": [
        "pip install cryptography"
      ]
    },
    {
      "cell_type": "code",
      "source": [
        "# e2ee_single_key.py\n",
        "from cryptography.fernet import Fernet\n",
        "\n",
        "def generate_key():\n",
        "    # Share this securely out-of-band (never embed in code or logs)\n",
        "    return Fernet.generate_key()\n",
        "\n",
        "def encrypt_bytes(key: bytes, data: bytes) -> bytes:\n",
        "    f = Fernet(key)\n",
        "    return f.encrypt(data)  # includes nonce + timestamp + HMAC\n",
        "\n",
        "def decrypt_bytes(key: bytes, token: bytes) -> bytes:\n",
        "    f = Fernet(key)\n",
        "    return f.decrypt(token)\n",
        "\n",
        "if __name__ == \"__main__\":\n",
        "    # Sender side\n",
        "    key = generate_key()\n",
        "    plaintext = b\"hello, this is end-to-end single-key encryption\"\n",
        "    ciphertext = encrypt_bytes(key, plaintext)\n",
        "    print(\"ciphertext (base64):\", ciphertext.decode())\n",
        "\n",
        "    # Receiver side (holding the same key)\n",
        "    recovered = decrypt_bytes(key, ciphertext)\n",
        "    print(\"recovered:\", recovered.decode())"
      ],
      "metadata": {
        "id": "4lE96iTmgaF4"
      },
      "execution_count": null,
      "outputs": []
    }
  ]
}