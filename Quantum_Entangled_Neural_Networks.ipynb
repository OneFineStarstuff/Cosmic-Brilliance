{
  "nbformat": 4,
  "nbformat_minor": 0,
  "metadata": {
    "colab": {
      "private_outputs": true,
      "provenance": [],
      "authorship_tag": "ABX9TyMTIAhN8bnAalI2goX5ZPB8",
      "include_colab_link": true
    },
    "kernelspec": {
      "name": "python3",
      "display_name": "Python 3"
    },
    "language_info": {
      "name": "python"
    }
  },
  "cells": [
    {
      "cell_type": "markdown",
      "metadata": {
        "id": "view-in-github",
        "colab_type": "text"
      },
      "source": [
        "<a href=\"https://colab.research.google.com/github/OneFineStarstuff/Cosmic-Brilliance/blob/main/Quantum_Entangled_Neural_Networks.ipynb\" target=\"_parent\"><img src=\"https://colab.research.google.com/assets/colab-badge.svg\" alt=\"Open In Colab\"/></a>"
      ]
    },
    {
      "cell_type": "code",
      "source": [
        "!pip install cirq tensorflow_quantum"
      ],
      "metadata": {
        "id": "Mx9M4UAcCULk"
      },
      "execution_count": null,
      "outputs": []
    },
    {
      "cell_type": "code",
      "execution_count": null,
      "metadata": {
        "id": "GWRgCCJAwMdI"
      },
      "outputs": [],
      "source": [
        "# Required imports\n",
        "import numpy as np\n",
        "import sympy as sp\n",
        "import tensorflow as tf\n",
        "import tensorflow_quantum as tfq\n",
        "import cirq\n",
        "\n",
        "# Qubits and base entangling circuit\n",
        "q0, q1 = cirq.GridQubit(0, 0), cirq.GridQubit(0, 1)\n",
        "\n",
        "# Symbols for classical features (2D -> two rotations)\n",
        "x0, x1 = sp.symbols('x0 x1')\n",
        "\n",
        "# Feature-encoding, entangled circuit\n",
        "circuit = cirq.Circuit()\n",
        "circuit.append([cirq.H(q0), cirq.CNOT(q0, q1)])\n",
        "# Encode features into rotations (you can choose encodings you like)\n",
        "circuit.append([cirq.rx(x0)(q0), cirq.ry(x1)(q1)])\n",
        "\n",
        "# Readout operator(s)\n",
        "readout_ops = [cirq.Z(q0)]\n",
        "\n",
        "# Model that consumes circuits + classical features\n",
        "class QuantumEntangledAI(tf.keras.Model):\n",
        "    def __init__(self):\n",
        "        super().__init__()\n",
        "        # ControlledPQC maps per-example feature values into the circuit symbols [x0, x1]\n",
        "        self.quantum = tfq.layers.ControlledPQC(circuit, readout_ops)\n",
        "        self.dense = tf.keras.layers.Dense(2, activation='softmax')\n",
        "\n",
        "    def call(self, inputs):\n",
        "        circ_inp, feat_inp = inputs  # [batch], [batch, 2]\n",
        "        expvals = self.quantum([circ_inp, feat_inp])  # shape: [batch, 1]\n",
        "        return self.dense(expvals)\n",
        "\n",
        "# Synthetic training data\n",
        "n = 1000\n",
        "# Base circuits for each example (can be empty—entanglement lives in the layer’s circuit)\n",
        "base_circuits = [cirq.Circuit()] * n\n",
        "x_circ = tfq.convert_to_tensor(base_circuits)       # shape: [n], dtype=tf.string\n",
        "\n",
        "# Two classical features -> feed into the symbols [x0, x1]\n",
        "x_feats = np.random.uniform(-np.pi, np.pi, size=(n, 2)).astype(np.float32)\n",
        "\n",
        "# Binary labels\n",
        "y = np.random.randint(0, 2, size=(n,)).astype(np.int32)\n",
        "\n",
        "# Build and train\n",
        "model = QuantumEntangledAI()\n",
        "model.compile(optimizer='adam', loss='sparse_categorical_crossentropy', metrics=['accuracy'])\n",
        "model.fit([x_circ, x_feats], y, epochs=10, batch_size=32, verbose=1)"
      ]
    },
    {
      "cell_type": "code",
      "source": [
        "import numpy as np\n",
        "import sympy as sp\n",
        "import tensorflow as tf\n",
        "import tensorflow_quantum as tfq\n",
        "import cirq\n",
        "\n",
        "q0, q1 = cirq.GridQubit(0, 0), cirq.GridQubit(0, 1)\n",
        "theta = sp.symbols('theta')\n",
        "\n",
        "circuit = cirq.Circuit()\n",
        "circuit.append([cirq.H(q0), cirq.CNOT(q0, q1)])\n",
        "circuit.append(cirq.rx(theta)(q0))\n",
        "readout_ops = [cirq.Z(q0)]\n",
        "\n",
        "# PQC takes circuits only; 'theta' becomes a trainable weight inside the layer.\n",
        "inputs = tf.keras.Input(shape=(), dtype=tf.string)\n",
        "expvals = tfq.layers.PQC(circuit, readout_ops)(inputs)\n",
        "outputs = tf.keras.layers.Dense(2, activation='softmax')(expvals)\n",
        "model = tf.keras.Model(inputs=inputs, outputs=outputs)\n",
        "\n",
        "n = 1000\n",
        "x_circ = tfq.convert_to_tensor([cirq.Circuit()] * n)\n",
        "y = np.random.randint(0, 2, size=(n,)).astype(np.int32)\n",
        "\n",
        "model.compile(optimizer='adam', loss='sparse_categorical_crossentropy', metrics=['accuracy'])\n",
        "model.fit(x_circ, y, epochs=10, batch_size=32, verbose=1)"
      ],
      "metadata": {
        "id": "PjNfIgCwCuqa"
      },
      "execution_count": null,
      "outputs": []
    }
  ]
}