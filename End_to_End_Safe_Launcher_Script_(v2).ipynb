{
  "nbformat": 4,
  "nbformat_minor": 0,
  "metadata": {
    "colab": {
      "private_outputs": true,
      "provenance": [],
      "authorship_tag": "ABX9TyOqgzHTSg5DjvMMFkPUNDuV",
      "include_colab_link": true
    },
    "kernelspec": {
      "name": "python3",
      "display_name": "Python 3"
    },
    "language_info": {
      "name": "python"
    }
  },
  "cells": [
    {
      "cell_type": "markdown",
      "metadata": {
        "id": "view-in-github",
        "colab_type": "text"
      },
      "source": [
        "<a href=\"https://colab.research.google.com/github/OneFineStarstuff/Cosmic-Brilliance/blob/main/End_to_End_Safe_Launcher_Script_(v2).ipynb\" target=\"_parent\"><img src=\"https://colab.research.google.com/assets/colab-badge.svg\" alt=\"Open In Colab\"/></a>"
      ]
    },
    {
      "cell_type": "code",
      "execution_count": null,
      "metadata": {
        "id": "i4dXG-sYm-7-"
      },
      "outputs": [],
      "source": [
        "import sys\n",
        "import argparse\n",
        "\n",
        "def build_parser():\n",
        "    parser = argparse.ArgumentParser(prog=\"colab_kernel_launcher.py\")\n",
        "    subparsers = parser.add_subparsers(dest=\"cmd\")\n",
        "\n",
        "    # 'single' command\n",
        "    single_parser = subparsers.add_parser(\"single\")\n",
        "    single_parser.add_argument(\"--mass\", type=float, required=True)\n",
        "    single_parser.add_argument(\"--energy-density\", type=float, required=True)\n",
        "    single_parser.add_argument(\"--distance\", type=float, required=True)\n",
        "    single_parser.set_defaults(func=handle_single)\n",
        "\n",
        "    # 'sweep' command\n",
        "    sweep_parser = subparsers.add_parser(\"sweep\")\n",
        "    sweep_parser.add_argument(\"--mass\", type=float, required=True)\n",
        "    sweep_parser.add_argument(\"--distance\", type=float, required=True)\n",
        "    sweep_parser.add_argument(\"--energy-density-range\", type=float, nargs=3, metavar=('START', 'END', 'NUM'))\n",
        "    sweep_parser.set_defaults(func=handle_sweep)\n",
        "\n",
        "    return parser\n",
        "\n",
        "\n",
        "def sanitize_args(argv):\n",
        "    return [\n",
        "        arg for i, arg in enumerate(argv)\n",
        "        if not (arg.endswith(\".json\") or (arg == \"-f\") or (i > 0 and argv[i-1] == \"-f\"))\n",
        "    ]\n",
        "\n",
        "\n",
        "def handle_single(args):\n",
        "    print(\"Running 'single' with:\", vars(args))\n",
        "\n",
        "\n",
        "def handle_sweep(args):\n",
        "    print(\"Running 'sweep' with:\", vars(args))\n",
        "\n",
        "\n",
        "def main(argv=None):\n",
        "    if argv is None:\n",
        "        argv = sys.argv[1:]\n",
        "    argv = sanitize_args(argv)\n",
        "\n",
        "    parser = build_parser()\n",
        "    try:\n",
        "        args = parser.parse_args(argv)\n",
        "        if not hasattr(args, \"func\"):\n",
        "            parser.print_help()\n",
        "        else:\n",
        "            args.func(args)\n",
        "    except Exception as e:\n",
        "        print(f\"Error: {e}\", file=sys.stderr)\n",
        "\n",
        "\n",
        "if __name__ == \"__main__\":\n",
        "    main()"
      ]
    }
  ]
}