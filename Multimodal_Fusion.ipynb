{
  "nbformat": 4,
  "nbformat_minor": 0,
  "metadata": {
    "colab": {
      "private_outputs": true,
      "provenance": [],
      "authorship_tag": "ABX9TyMx54JT7hEYFctBOnPN+6+v",
      "include_colab_link": true
    },
    "kernelspec": {
      "name": "python3",
      "display_name": "Python 3"
    },
    "language_info": {
      "name": "python"
    }
  },
  "cells": [
    {
      "cell_type": "markdown",
      "metadata": {
        "id": "view-in-github",
        "colab_type": "text"
      },
      "source": [
        "<a href=\"https://colab.research.google.com/github/OneFineStarstuff/Cosmic-Brilliance/blob/main/Multimodal_Fusion.ipynb\" target=\"_parent\"><img src=\"https://colab.research.google.com/assets/colab-badge.svg\" alt=\"Open In Colab\"/></a>"
      ]
    },
    {
      "cell_type": "code",
      "source": [
        "!pip install open_clip_torch"
      ],
      "metadata": {
        "id": "kUj2OnOXVLQT"
      },
      "execution_count": null,
      "outputs": []
    },
    {
      "cell_type": "code",
      "execution_count": null,
      "metadata": {
        "id": "orai9PdlUX-L"
      },
      "outputs": [],
      "source": [
        "import torch\n",
        "import open_clip\n",
        "from PIL import Image\n",
        "\n",
        "# 1. Device setup\n",
        "device = \"cuda\" if torch.cuda.is_available() else \"cpu\"\n",
        "\n",
        "# 2. Load model + preprocessing\n",
        "clip_model, _, clip_pre = open_clip.create_model_and_transforms(\n",
        "    \"ViT-B-32\",\n",
        "    pretrained=\"laion2b_s34b_b79k\"\n",
        ")\n",
        "clip_model = clip_model.to(device).eval().requires_grad_(False)\n",
        "\n",
        "# 3. Batch multimodal encoding\n",
        "def encode_multimodal_batch(images, texts, normalize=True):\n",
        "    \"\"\"\n",
        "    images: list of PIL.Image or tensors\n",
        "    texts: list of strings\n",
        "    Returns: tensor of shape (batch_size, 2D)\n",
        "    \"\"\"\n",
        "    # Preprocess all images into a batch\n",
        "    img_tensors = torch.stack([clip_pre(img) for img in images]).to(device)\n",
        "    txt_tokens = open_clip.tokenize(texts).to(device)\n",
        "\n",
        "    with torch.no_grad():\n",
        "        img_f = clip_model.encode_image(img_tensors)   # (B, D)\n",
        "        txt_f = clip_model.encode_text(txt_tokens)     # (B, D)\n",
        "\n",
        "    if normalize:\n",
        "        img_f = img_f / img_f.norm(dim=-1, keepdim=True)\n",
        "        txt_f = txt_f / txt_f.norm(dim=-1, keepdim=True)\n",
        "\n",
        "    # Concatenate image + text features\n",
        "    combined = torch.cat([img_f, txt_f], dim=-1)       # (B, 2D)\n",
        "    return combined\n",
        "\n",
        "# 4. Example usage\n",
        "if __name__ == \"__main__\":\n",
        "    # Example data\n",
        "    images = [\n",
        "        Image.open(\"cat.jpg\"),\n",
        "        Image.open(\"dog.jpg\")\n",
        "    ]\n",
        "    texts = [\n",
        "        \"a cute cat\",\n",
        "        \"a happy dog\"\n",
        "    ]\n",
        "\n",
        "    embeddings = encode_multimodal_batch(images, texts)\n",
        "    print(\"Embedding shape:\", embeddings.shape)  # (2, 1024) if D=512\n",
        "    print(\"First vector snippet:\", embeddings[0][:10])  # show first 10 dims"
      ]
    }
  ]
}