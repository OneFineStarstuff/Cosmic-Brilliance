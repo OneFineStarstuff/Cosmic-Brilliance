{
  "nbformat": 4,
  "nbformat_minor": 0,
  "metadata": {
    "colab": {
      "private_outputs": true,
      "provenance": [],
      "authorship_tag": "ABX9TyNjZz8iadDC8zLU2XSVD65n",
      "include_colab_link": true
    },
    "kernelspec": {
      "name": "python3",
      "display_name": "Python 3"
    },
    "language_info": {
      "name": "python"
    }
  },
  "cells": [
    {
      "cell_type": "markdown",
      "metadata": {
        "id": "view-in-github",
        "colab_type": "text"
      },
      "source": [
        "<a href=\"https://colab.research.google.com/github/OneFineStarstuff/Cosmic-Brilliance/blob/main/singularity_sim_py.ipynb\" target=\"_parent\"><img src=\"https://colab.research.google.com/assets/colab-badge.svg\" alt=\"Open In Colab\"/></a>"
      ]
    },
    {
      "cell_type": "code",
      "execution_count": null,
      "metadata": {
        "id": "5s9N3EPQYz8o"
      },
      "outputs": [],
      "source": [
        "#!/usr/bin/env python3\n",
        "\"\"\"\n",
        "singularity_sim.py\n",
        "\n",
        "Simulates a singularity field with exponential decay, optional noise,\n",
        "logs to CSV, and saves a plot. Now robust to Jupyter/IPython flags.\n",
        "\"\"\"\n",
        "\n",
        "import sys\n",
        "import csv\n",
        "import random\n",
        "import argparse\n",
        "import matplotlib.pyplot as plt\n",
        "\n",
        "def simulate(\n",
        "    initial_field: float,\n",
        "    input_sample: float,\n",
        "    steps: int,\n",
        "    decay_rate: float,\n",
        "    collapse_threshold: float,\n",
        "    noise_std: float,\n",
        "    output_csv: str\n",
        "):\n",
        "    log_rows = [(\"step\", \"field\", \"output\")]\n",
        "    field = initial_field\n",
        "    collapsed = False\n",
        "\n",
        "    for step in range(1, steps + 1):\n",
        "        output = field * input_sample\n",
        "        log_rows.append((step, field, output))\n",
        "\n",
        "        if not collapsed and field <= collapse_threshold:\n",
        "            collapsed = True\n",
        "            field = random.gauss(0, noise_std) if noise_std > 0 else 0.0\n",
        "        elif not collapsed:\n",
        "            field *= decay_rate\n",
        "\n",
        "    # Write to CSV\n",
        "    with open(output_csv, \"w\", newline=\"\") as csvfile:\n",
        "        writer = csv.writer(csvfile)\n",
        "        writer.writerows(log_rows)\n",
        "\n",
        "    # Plot\n",
        "    steps_list = [r[0] for r in log_rows[1:]]\n",
        "    vals = [r[1] for r in log_rows[1:]]\n",
        "    plt.figure(figsize=(8,5))\n",
        "    plt.plot(steps_list, vals, marker='o')\n",
        "    plt.xlabel(\"Step\")\n",
        "    plt.ylabel(\"Singularity Field\")\n",
        "    plt.title(\"Evolution of Singularity Field\")\n",
        "    plt.grid(True)\n",
        "    plt.tight_layout()\n",
        "    plt.savefig(\"singularity_field_plot.png\")\n",
        "    print(f\"Done. CSV → {output_csv}, plot → singularity_field_plot.png\")\n",
        "\n",
        "def main():\n",
        "    parser = argparse.ArgumentParser(\n",
        "        description=\"Singularity Field Simulation with decay and noise\"\n",
        "    )\n",
        "    parser.add_argument(\"--initial-field\",    type=float, default=1e6)\n",
        "    parser.add_argument(\"--input-sample\",     type=float, default=1e6)\n",
        "    parser.add_argument(\"--steps\",            type=int,   default=100)\n",
        "    parser.add_argument(\"--decay-rate\",       type=float, default=0.9)\n",
        "    parser.add_argument(\"--collapse-threshold\", type=float, default=1.0)\n",
        "    parser.add_argument(\"--noise-std\",        type=float, default=0.01)\n",
        "    parser.add_argument(\"--output-csv\",       type=str,   default=\"singularity_log.csv\")\n",
        "\n",
        "    # parse_known_args ignores any extra flags\n",
        "    args, _ = parser.parse_known_args()\n",
        "\n",
        "    simulate(\n",
        "        initial_field=args.initial_field,\n",
        "        input_sample=args.input_sample,\n",
        "        steps=args.steps,\n",
        "        decay_rate=args.decay_rate,\n",
        "        collapse_threshold=args.collapse_threshold,\n",
        "        noise_std=args.noise_std,\n",
        "        output_csv=args.output_csv\n",
        "    )\n",
        "\n",
        "if __name__ == \"__main__\":\n",
        "    main()"
      ]
    }
  ]
}