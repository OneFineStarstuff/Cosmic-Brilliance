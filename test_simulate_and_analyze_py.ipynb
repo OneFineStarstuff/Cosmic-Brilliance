{
  "nbformat": 4,
  "nbformat_minor": 0,
  "metadata": {
    "colab": {
      "private_outputs": true,
      "provenance": [],
      "authorship_tag": "ABX9TyMvzY0Idcszrp86mKnqLA/B",
      "include_colab_link": true
    },
    "kernelspec": {
      "name": "python3",
      "display_name": "Python 3"
    },
    "language_info": {
      "name": "python"
    }
  },
  "cells": [
    {
      "cell_type": "markdown",
      "metadata": {
        "id": "view-in-github",
        "colab_type": "text"
      },
      "source": [
        "<a href=\"https://colab.research.google.com/github/OneFineStarstuff/Cosmic-Brilliance/blob/main/test_simulate_and_analyze_py.ipynb\" target=\"_parent\"><img src=\"https://colab.research.google.com/assets/colab-badge.svg\" alt=\"Open In Colab\"/></a>"
      ]
    },
    {
      "cell_type": "code",
      "execution_count": null,
      "metadata": {
        "id": "jpfFcf0PWZrz"
      },
      "outputs": [],
      "source": [
        "import numpy as np\n",
        "import pandas as pd\n",
        "import pytest\n",
        "from simulate_and_analyze import (\n",
        "    simulate, simulate_with_noise,\n",
        "    summary_statistics, fit_regression_slope\n",
        ")\n",
        "\n",
        "def test_simulate_length_and_columns():\n",
        "    df = simulate(1000, 10.0, 0.0, 0.1, breach_step=500, breach_value=1.0)\n",
        "    assert len(df) == 1000\n",
        "    assert set(df.columns) == {'step', 'log_output', 'log_beyond_field'}\n",
        "    assert df.loc[499, 'log_beyond_field'] == pytest.approx(1.0)\n",
        "\n",
        "def test_simulate_with_noise_reproducible():\n",
        "    df = simulate(500, 5.0, 0.0, 0.2, breach_step=250, breach_value=0.5)\n",
        "    np.random.seed(0)\n",
        "    noisy1 = simulate_with_noise(df, noise_sd=0.0)\n",
        "    np.random.seed(0)\n",
        "    noisy2 = simulate_with_noise(df, noise_sd=0.0)\n",
        "    # With zero noise, results must match exactly\n",
        "    pd.testing.assert_series_equal(noisy1['log_output_noisy'], noisy2['log_output_noisy'])\n",
        "\n",
        "def test_summary_statistics_correctness():\n",
        "    df = pd.DataFrame({'val': [1, 2, 3, 4, 5]})\n",
        "    stats = summary_statistics(df, 'val')\n",
        "    assert stats['mean'] == 3.0\n",
        "    assert pytest.approx(stats['variance'], rel=1e-6) == 2.0\n",
        "    assert stats['min'] == 1\n",
        "    assert stats['max'] == 5\n",
        "\n",
        "def test_fit_regression_slope_linear():\n",
        "    # y = 2*x + 1\n",
        "    x = np.arange(0, 100).reshape(-1, 1)\n",
        "    y = 2.0 * x.flatten() + 1.0\n",
        "    df = pd.DataFrame({'step': x.flatten(), 'out': y})\n",
        "    slope = fit_regression_slope(df, 'step', 'out')\n",
        "    assert pytest.approx(slope, rel=1e-6) == 2.0"
      ]
    }
  ]
}