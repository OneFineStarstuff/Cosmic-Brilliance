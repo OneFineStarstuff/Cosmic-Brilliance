{
  "nbformat": 4,
  "nbformat_minor": 0,
  "metadata": {
    "colab": {
      "private_outputs": true,
      "provenance": [],
      "authorship_tag": "ABX9TyNJDkHBrWRpAjSwuEE9anEi",
      "include_colab_link": true
    },
    "kernelspec": {
      "name": "python3",
      "display_name": "Python 3"
    },
    "language_info": {
      "name": "python"
    }
  },
  "cells": [
    {
      "cell_type": "markdown",
      "metadata": {
        "id": "view-in-github",
        "colab_type": "text"
      },
      "source": [
        "<a href=\"https://colab.research.google.com/github/OneFineStarstuff/Cosmic-Brilliance/blob/main/tests_test_symbolic_theory_py.ipynb\" target=\"_parent\"><img src=\"https://colab.research.google.com/assets/colab-badge.svg\" alt=\"Open In Colab\"/></a>"
      ]
    },
    {
      "cell_type": "code",
      "execution_count": null,
      "metadata": {
        "id": "1TwkdogoAb0t"
      },
      "outputs": [],
      "source": [
        "# tests/test_symbolic_theory.py\n",
        "import sympy as sp\n",
        "from symbolic_theory_suite import (\n",
        "    SymbolicTheoryConstructor,\n",
        "    BuildConfig,\n",
        "    SolveConfig,\n",
        "    _build_demo_graph,\n",
        ")\n",
        "\n",
        "def test_build_edges_only_counts():\n",
        "    ctor = SymbolicTheoryConstructor(var_prefix=\"v\")\n",
        "    G = _build_demo_graph()\n",
        "    theory = ctor.build(G, BuildConfig(restrict_to_edges=True, add_constant=True, var_prefix=\"v\"))\n",
        "    eqs = theory[\"equations\"]\n",
        "    assert len(eqs) == 2  # x-y, y-z\n",
        "    s = ctor.pretty_print(theory)\n",
        "    assert \"a_x_y\" in s and \"a_y_z\" in s\n",
        "\n",
        "def test_build_all_pairs_counts():\n",
        "    ctor = SymbolicTheoryConstructor(var_prefix=\"v\")\n",
        "    G = _build_demo_graph()\n",
        "    theory = ctor.build(G, BuildConfig(restrict_to_edges=False, add_constant=True, var_prefix=\"v\"))\n",
        "    eqs = theory[\"equations\"]\n",
        "    assert len(eqs) == 3  # x-y, x-z, y-z\n",
        "\n",
        "def test_edges_only_unique_solution_with_anchor():\n",
        "    ctor = SymbolicTheoryConstructor(var_prefix=\"v\")\n",
        "    G = _build_demo_graph()\n",
        "    theory = ctor.build(G, BuildConfig(restrict_to_edges=True, add_constant=True, var_prefix=\"v\"))\n",
        "    res = ctor.try_solve(\n",
        "        theory,\n",
        "        SolveConfig(coeff_value=1.0, const_value=0.0, anchors={\"v_x\": 1.0}, max_equations=10),\n",
        "    )\n",
        "    assert res[\"status\"] in (\"unique\", \"anchored_only\")\n",
        "    # Expect v_y = -1, v_z = 1 under unit coefficients and v_x=1\n",
        "    first = res[\"assignments\"][0]\n",
        "    assert float(first[\"v_y\"]) == -1.0\n",
        "    assert float(first[\"v_z\"]) == 1.0\n",
        "\n",
        "def test_all_pairs_auto_anchor_to_unique():\n",
        "    ctor = SymbolicTheoryConstructor(var_prefix=\"v\")\n",
        "    G = _build_demo_graph()\n",
        "    theory = ctor.build(G, BuildConfig(restrict_to_edges=False, add_constant=True, var_prefix=\"v\"))\n",
        "    res = ctor.try_solve(\n",
        "        theory,\n",
        "        SolveConfig(coeff_value=1.0, const_value=0.0, anchors={\"v_x\": 1.0}, auto_anchor=True, auto_anchor_value=1.0),\n",
        "    )\n",
        "    # With auto-anchoring, system should become unique or fully anchored\n",
        "    assert res[\"status\"] in (\"unique\", \"anchored_only\")\n",
        "    assert \"auto_anchor_steps\" in res"
      ]
    }
  ]
}