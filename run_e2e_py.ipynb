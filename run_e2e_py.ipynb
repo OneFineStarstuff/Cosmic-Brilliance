{
  "nbformat": 4,
  "nbformat_minor": 0,
  "metadata": {
    "colab": {
      "private_outputs": true,
      "provenance": [],
      "authorship_tag": "ABX9TyM+u0h60dA0L6wR8zmNkb1u",
      "include_colab_link": true
    },
    "kernelspec": {
      "name": "python3",
      "display_name": "Python 3"
    },
    "language_info": {
      "name": "python"
    }
  },
  "cells": [
    {
      "cell_type": "markdown",
      "metadata": {
        "id": "view-in-github",
        "colab_type": "text"
      },
      "source": [
        "<a href=\"https://colab.research.google.com/github/OneFineStarstuff/Cosmic-Brilliance/blob/main/run_e2e_py.ipynb\" target=\"_parent\"><img src=\"https://colab.research.google.com/assets/colab-badge.svg\" alt=\"Open In Colab\"/></a>"
      ]
    },
    {
      "cell_type": "code",
      "execution_count": null,
      "metadata": {
        "id": "cykXKEW74weZ"
      },
      "outputs": [],
      "source": [
        "#!/usr/bin/env python3\n",
        "\"\"\"\n",
        "run_e2e: convenience runner that executes the full dreamstack pipeline.\n",
        "\n",
        "This is a thin wrapper around dreamstack_single.cli(\"pipeline\", ...).\n",
        "It exists to provide a single entry-point with a minimal set of flags.\n",
        "\n",
        "Usage examples:\n",
        "  python run_e2e.py\n",
        "  python run_e2e.py --out-dir out_dreamstack --survivors 8 --frames-per-survivor 12 -vv\n",
        "  python run_e2e.py --seed 42 --top-n 5 --k 10 --scope global --strategy average --copy\n",
        "\"\"\"\n",
        "\n",
        "from __future__ import annotations\n",
        "\n",
        "import argparse\n",
        "from typing import Optional\n",
        "\n",
        "from pathlib import Path\n",
        "import sys\n",
        "\n",
        "# Import the CLI helper from the main module\n",
        "try:\n",
        "    from dreamstack_single import cli\n",
        "except ImportError:  # allow running when both scripts are in same folder without installation\n",
        "    # Add current directory to sys.path and try again\n",
        "    sys.path.insert(0, str(Path(__file__).resolve().parent))\n",
        "    from dreamstack_single import cli\n",
        "\n",
        "\n",
        "def build_runner_parser() -> argparse.ArgumentParser:\n",
        "    p = argparse.ArgumentParser(\n",
        "        prog=\"run_e2e\",\n",
        "        description=\"Run the full dreamstack pipeline end-to-end.\",\n",
        "        formatter_class=argparse.ArgumentDefaultsHelpFormatter,\n",
        "    )\n",
        "    p.add_argument(\"-v\", \"--verbose\", action=\"count\", default=1,\n",
        "                   help=\"Increase verbosity (-v for INFO, -vv for DEBUG)\")\n",
        "\n",
        "    p.add_argument(\"--steps\", type=int, default=200, help=\"Simulation steps (placeholder)\")\n",
        "    p.add_argument(\"--survivors\", type=int, default=5, help=\"Number of survivors to produce\")\n",
        "    p.add_argument(\"--frames-per-survivor\", type=int, default=16, dest=\"frames_per_survivor\",\n",
        "                   help=\"Frames per survivor\")\n",
        "    p.add_argument(\"--out-dir\", type=str, default=\"out_dreamstack\", dest=\"out_dir\", help=\"Output directory\")\n",
        "    p.add_argument(\"--seed\", type=int, default=None, help=\"Random seed\")\n",
        "\n",
        "    p.add_argument(\"--top-n\", type=int, default=3, dest=\"top_n\", help=\"Top survivors to carry forward\")\n",
        "    p.add_argument(\"--k\", type=int, default=8, help=\"Number of motifs\")\n",
        "    p.add_argument(\"--scope\", type=str, choices=(\"local\", \"global\"), default=\"local\", help=\"Compression scope\")\n",
        "    p.add_argument(\"--copy\", action=\"store_true\", help=\"Copy frames into replay dirs\")\n",
        "    p.add_argument(\"--strategy\", type=str, choices=(\"average\", \"best\", \"mix\"), default=\"mix\",\n",
        "                   help=\"Fusion strategy\")\n",
        "\n",
        "    return p\n",
        "\n",
        "\n",
        "def main(argv: Optional[list[str]] = None) -> int:\n",
        "    parser = build_runner_parser()\n",
        "    ns = parser.parse_args(argv)\n",
        "\n",
        "    # Pass through to the library CLI without exiting the process\n",
        "    return cli(\n",
        "        \"pipeline\",\n",
        "        steps=ns.steps,\n",
        "        survivors=ns.survivors,\n",
        "        frames_per_survivor=ns.frames_per_survivor,\n",
        "        out_dir=ns.out_dir,\n",
        "        seed=ns.seed,\n",
        "        top_n=ns.top_n,\n",
        "        k=ns.k,\n",
        "        scope=ns.scope,\n",
        "        copy=ns.copy,\n",
        "        strategy=ns.strategy,\n",
        "        verbose=ns.verbose,\n",
        "    )\n",
        "\n",
        "\n",
        "if __name__ == \"__main__\":\n",
        "    raise SystemExit(main())"
      ]
    }
  ]
}