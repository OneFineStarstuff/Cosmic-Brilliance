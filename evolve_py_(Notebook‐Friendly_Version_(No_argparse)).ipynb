{
  "nbformat": 4,
  "nbformat_minor": 0,
  "metadata": {
    "colab": {
      "private_outputs": true,
      "provenance": [],
      "authorship_tag": "ABX9TyMXc5OWiITsx96ld7n//rOw",
      "include_colab_link": true
    },
    "kernelspec": {
      "name": "python3",
      "display_name": "Python 3"
    },
    "language_info": {
      "name": "python"
    }
  },
  "cells": [
    {
      "cell_type": "markdown",
      "metadata": {
        "id": "view-in-github",
        "colab_type": "text"
      },
      "source": [
        "<a href=\"https://colab.research.google.com/github/OneFineStarstuff/Cosmic-Brilliance/blob/main/evolve_py_(Notebook%E2%80%90Friendly_Version_(No_argparse)).ipynb\" target=\"_parent\"><img src=\"https://colab.research.google.com/assets/colab-badge.svg\" alt=\"Open In Colab\"/></a>"
      ]
    },
    {
      "cell_type": "code",
      "execution_count": null,
      "metadata": {
        "id": "AoDoU3u0DHUP"
      },
      "outputs": [],
      "source": [
        "import numpy as np\n",
        "import matplotlib.pyplot as plt\n",
        "\n",
        "def evolve_parameters(params,\n",
        "                      fitness_function,\n",
        "                      mutation_rate=0.05,\n",
        "                      generations=100,\n",
        "                      record_history=False):\n",
        "    best = params.copy()\n",
        "    best_fitness = fitness_function(best)\n",
        "    history = [best_fitness] if record_history else None\n",
        "\n",
        "    for _ in range(generations):\n",
        "        candidate = best + mutation_rate * np.random.randn(*best.shape)\n",
        "        f = fitness_function(candidate)\n",
        "        if f > best_fitness:\n",
        "            best, best_fitness = candidate, f\n",
        "        if record_history:\n",
        "            history.append(best_fitness)\n",
        "\n",
        "    return (best, history) if record_history else best\n",
        "\n",
        "def fitness_function(params):\n",
        "    return -np.sum(params**2)\n",
        "\n",
        "# --- PARAMETERS YOU CAN MODIFY ---\n",
        "dim = 10\n",
        "mutation_rate = 0.05\n",
        "generations = 100\n",
        "seed = 42\n",
        "plot_history = True\n",
        "# -----------------------------------\n",
        "\n",
        "np.random.seed(seed)\n",
        "initial_params = np.random.randn(dim)\n",
        "best_params, history = evolve_parameters(\n",
        "    initial_params, fitness_function,\n",
        "    mutation_rate=mutation_rate,\n",
        "    generations=generations,\n",
        "    record_history=True\n",
        ")\n",
        "\n",
        "print(\"Initial fitness:\", fitness_function(initial_params))\n",
        "print(\"Best    fitness:\", fitness_function(best_params))\n",
        "print(\"Evolved params :\", best_params)\n",
        "\n",
        "if plot_history:\n",
        "    plt.figure(figsize=(6,4))\n",
        "    plt.plot(history, label=\"Best Fitness\")\n",
        "    plt.xlabel(\"Generation\")\n",
        "    plt.ylabel(\"Fitness\")\n",
        "    plt.legend()\n",
        "    plt.show()"
      ]
    }
  ]
}