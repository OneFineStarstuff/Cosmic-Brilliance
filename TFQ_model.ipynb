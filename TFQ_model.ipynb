{
  "nbformat": 4,
  "nbformat_minor": 0,
  "metadata": {
    "colab": {
      "private_outputs": true,
      "provenance": [],
      "authorship_tag": "ABX9TyOnr6R1X4xsBy89sHpRZ+fD",
      "include_colab_link": true
    },
    "kernelspec": {
      "name": "python3",
      "display_name": "Python 3"
    },
    "language_info": {
      "name": "python"
    }
  },
  "cells": [
    {
      "cell_type": "markdown",
      "metadata": {
        "id": "view-in-github",
        "colab_type": "text"
      },
      "source": [
        "<a href=\"https://colab.research.google.com/github/OneFineStarstuff/Cosmic-Brilliance/blob/main/TFQ_model.ipynb\" target=\"_parent\"><img src=\"https://colab.research.google.com/assets/colab-badge.svg\" alt=\"Open In Colab\"/></a>"
      ]
    },
    {
      "cell_type": "code",
      "source": [
        "!pip install cirq tensorflow_quantum"
      ],
      "metadata": {
        "id": "E1T7WpwErGBL"
      },
      "execution_count": null,
      "outputs": []
    },
    {
      "cell_type": "code",
      "execution_count": null,
      "metadata": {
        "id": "zYNwpWCjrBSq"
      },
      "outputs": [],
      "source": [
        "import numpy as np\n",
        "import tensorflow as tf\n",
        "import tensorflow_quantum as tfq\n",
        "import cirq\n",
        "import sympy as sp\n",
        "\n",
        "# Qubits and circuit\n",
        "q0, q1 = cirq.GridQubit(0, 0), cirq.GridQubit(0, 1)\n",
        "theta = sp.Symbol('theta')\n",
        "\n",
        "circuit = cirq.Circuit(\n",
        "    cirq.H(q0),\n",
        "    cirq.CNOT(q0, q1),\n",
        "    cirq.rx(theta)(q0),\n",
        "    cirq.ry(theta)(q1),\n",
        ")\n",
        "\n",
        "readout_ops = [cirq.Z(q0)]\n",
        "\n",
        "# Keras model: circuits only -> PQC learns theta\n",
        "inputs = tf.keras.Input(shape=(), dtype=tf.string, name=\"circuits\")\n",
        "expvals = tfq.layers.PQC(circuit, readout_ops)(inputs)  # shape [batch, 1]\n",
        "outputs = tf.keras.layers.Dense(2, activation=\"softmax\")(expvals)\n",
        "model = tf.keras.Model(inputs=inputs, outputs=outputs)\n",
        "\n",
        "# Synthetic labels (binary)\n",
        "n = 1000\n",
        "x_circ = tfq.convert_to_tensor([cirq.Circuit()] * n)\n",
        "y = np.random.randint(0, 2, size=(n,)).astype(np.int32)\n",
        "\n",
        "model.compile(optimizer=\"adam\", loss=\"sparse_categorical_crossentropy\", metrics=[\"accuracy\"])\n",
        "model.fit(x_circ, y, epochs=10, batch_size=32, verbose=1)"
      ]
    },
    {
      "cell_type": "code",
      "source": [
        "import numpy as np\n",
        "import tensorflow as tf\n",
        "import tensorflow_quantum as tfq\n",
        "import cirq\n",
        "import sympy as sp\n",
        "\n",
        "# Qubits and symbols\n",
        "q0, q1 = cirq.GridQubit(0, 0), cirq.GridQubit(0, 1)\n",
        "th0, th1 = sp.symbols('th0 th1')\n",
        "\n",
        "# Base circuit + parameterized rotations\n",
        "circuit = cirq.Circuit(\n",
        "    cirq.H(q0),\n",
        "    cirq.CNOT(q0, q1),\n",
        "    cirq.rx(th0)(q0),\n",
        "    cirq.ry(th1)(q1),\n",
        ")\n",
        "readout_ops = [cirq.Z(q0)]\n",
        "\n",
        "class ParadoxicalQuantumAI(tf.keras.Model):\n",
        "    def __init__(self):\n",
        "        super().__init__()\n",
        "        # ControlledPQC maps features to the symbols [th0, th1]\n",
        "        self.pqc = tfq.layers.ControlledPQC(circuit, readout_ops)\n",
        "        self.head = tf.keras.layers.Dense(2, activation=\"softmax\")\n",
        "\n",
        "    def call(self, inputs):\n",
        "        circ_inp, feat_inp = inputs  # feat_inp shape: [batch, 2]\n",
        "        expvals = self.pqc([circ_inp, feat_inp])\n",
        "        return self.head(expvals)\n",
        "\n",
        "# Data: circuits + 2D features + labels\n",
        "n = 1000\n",
        "x_circ = tfq.convert_to_tensor([cirq.Circuit()] * n)\n",
        "x_feat = np.random.uniform(-np.pi, np.pi, size=(n, 2)).astype(np.float32)\n",
        "y = np.random.randint(0, 2, size=(n,)).astype(np.int32)\n",
        "\n",
        "model = ParadoxicalQuantumAI()\n",
        "model.compile(optimizer=\"adam\", loss=\"sparse_categorical_crossentropy\", metrics=[\"accuracy\"])\n",
        "model.fit([x_circ, x_feat], y, epochs=10, batch_size=32, verbose=1)"
      ],
      "metadata": {
        "id": "n2wUWrZCsJ0c"
      },
      "execution_count": null,
      "outputs": []
    }
  ]
}