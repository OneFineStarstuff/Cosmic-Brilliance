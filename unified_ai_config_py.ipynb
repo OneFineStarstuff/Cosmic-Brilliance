{
  "nbformat": 4,
  "nbformat_minor": 0,
  "metadata": {
    "colab": {
      "private_outputs": true,
      "provenance": [],
      "authorship_tag": "ABX9TyOHfPdMAlDhsNdOdKiMmNPd",
      "include_colab_link": true
    },
    "kernelspec": {
      "name": "python3",
      "display_name": "Python 3"
    },
    "language_info": {
      "name": "python"
    }
  },
  "cells": [
    {
      "cell_type": "markdown",
      "metadata": {
        "id": "view-in-github",
        "colab_type": "text"
      },
      "source": [
        "<a href=\"https://colab.research.google.com/github/OneFineStarstuff/Cosmic-Brilliance/blob/main/unified_ai_config_py.ipynb\" target=\"_parent\"><img src=\"https://colab.research.google.com/assets/colab-badge.svg\" alt=\"Open In Colab\"/></a>"
      ]
    },
    {
      "cell_type": "code",
      "execution_count": null,
      "metadata": {
        "id": "_foWzvCCMaFZ"
      },
      "outputs": [],
      "source": [
        "# unified_ai/config.py\n",
        "from __future__ import annotations\n",
        "from dataclasses import dataclass\n",
        "\n",
        "@dataclass\n",
        "class Config:\n",
        "    # System\n",
        "    seed: int = 7\n",
        "    device: str = \"cuda\"  # auto-fallback to cpu inside main\n",
        "    episodes: int = 10\n",
        "    steps_per_episode: int = 50\n",
        "    gamma: float = 0.95\n",
        "\n",
        "    # Policy/Exploration\n",
        "    epsilon_start: float = 0.25\n",
        "    epsilon_min: float = 0.02\n",
        "    epsilon_decay: float = 0.98\n",
        "    lr: float = 1e-3\n",
        "    hidden_dim: int = 64\n",
        "\n",
        "    # Memory (EEM)\n",
        "    mem_slots: int = 256\n",
        "    key_dim: int = 32\n",
        "    value_dim: int = 16\n",
        "    mem_temperature: float = 0.2\n",
        "    mem_ema: float = 0.2\n",
        "    mem_householder_layers: int = 1\n",
        "\n",
        "    # Environment\n",
        "    line_length: int = 31            # odd length, positions in [-(L//2), (L//2)]\n",
        "    obs_noise_std: float = 0.1\n",
        "    success_reward: float = 10.0\n",
        "    step_penalty: float = -0.05\n",
        "\n",
        "    # Reflection triggers\n",
        "    surprise_threshold: float = 0.5   # heuristic trigger\n",
        "    fail_recovery_eps_boost: float = 0.15  # increase epsilon on failure (clamped)\n",
        "\n",
        "    # Logging\n",
        "    verbose: bool = True"
      ]
    }
  ]
}