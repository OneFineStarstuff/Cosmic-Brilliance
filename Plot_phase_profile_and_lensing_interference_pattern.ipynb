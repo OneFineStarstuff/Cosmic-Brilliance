{
  "nbformat": 4,
  "nbformat_minor": 0,
  "metadata": {
    "colab": {
      "private_outputs": true,
      "provenance": [],
      "authorship_tag": "ABX9TyOFQXfKX79YVjjVDWsN+xdF",
      "include_colab_link": true
    },
    "kernelspec": {
      "name": "python3",
      "display_name": "Python 3"
    },
    "language_info": {
      "name": "python"
    }
  },
  "cells": [
    {
      "cell_type": "markdown",
      "metadata": {
        "id": "view-in-github",
        "colab_type": "text"
      },
      "source": [
        "<a href=\"https://colab.research.google.com/github/OneFineStarstuff/Cosmic-Brilliance/blob/main/Plot_phase_profile_and_lensing_interference_pattern.ipynb\" target=\"_parent\"><img src=\"https://colab.research.google.com/assets/colab-badge.svg\" alt=\"Open In Colab\"/></a>"
      ]
    },
    {
      "cell_type": "code",
      "execution_count": null,
      "metadata": {
        "id": "AlBjLtemWyXO"
      },
      "outputs": [],
      "source": [
        "import numpy as np\n",
        "import matplotlib.pyplot as plt\n",
        "import seaborn as sns\n",
        "import os\n",
        "\n",
        "# Ensure output directory exists\n",
        "os.makedirs(\"/mnt/data\", exist_ok=True)\n",
        "\n",
        "# Set seaborn style\n",
        "sns.set(style=\"whitegrid\")\n",
        "\n",
        "# Provided phase profile\n",
        "phase_profile = np.array([-0.375, -0.125, 0.125, 0.375])\n",
        "positions = np.arange(len(phase_profile))\n",
        "\n",
        "# Plot phase profile\n",
        "plt.figure(figsize=(6, 4))\n",
        "plt.plot(positions, phase_profile, marker='o', linestyle='-', color='mediumblue')\n",
        "plt.title(\"Quantum Gate Phase Profile\")\n",
        "plt.xlabel(\"Gate Position\")\n",
        "plt.ylabel(\"Phase Shift (radians)\")\n",
        "plt.grid(True)\n",
        "plt.tight_layout()\n",
        "plt.savefig(\"/mnt/data/phase_profile_plot.png\")\n",
        "plt.close()\n",
        "\n",
        "# Simulate lensing interference pattern\n",
        "x = np.linspace(-2, 2, 400)\n",
        "y = np.linspace(-2, 2, 400)\n",
        "X, Y = np.meshgrid(x, y)\n",
        "\n",
        "# Simulate interference pattern using phase profile as lensing effect\n",
        "interference = np.zeros_like(X)\n",
        "for i, phase in enumerate(phase_profile):\n",
        "    x0 = -1.5 + i * 1.0  # spread gate positions across x-axis\n",
        "    r_squared = (X - x0)**2 + Y**2\n",
        "    interference += np.cos(10 * np.sqrt(r_squared) + phase)\n",
        "\n",
        "# Normalize and plot interference pattern\n",
        "plt.figure(figsize=(6, 5))\n",
        "plt.imshow(interference, extent=[-2, 2, -2, 2], cmap='plasma', origin='lower')\n",
        "plt.title(\"Simulated Lensing Interference Pattern\")\n",
        "plt.xlabel(\"X Position\")\n",
        "plt.ylabel(\"Y Position\")\n",
        "plt.colorbar(label=\"Intensity\")\n",
        "plt.tight_layout()\n",
        "plt.savefig(\"/mnt/data/lensing_interference_pattern.png\")\n",
        "plt.close()"
      ]
    }
  ]
}