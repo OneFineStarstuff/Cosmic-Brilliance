{
  "nbformat": 4,
  "nbformat_minor": 0,
  "metadata": {
    "colab": {
      "private_outputs": true,
      "provenance": [],
      "authorship_tag": "ABX9TyO8EMpqkLRSbZf3CTNTs8nk",
      "include_colab_link": true
    },
    "kernelspec": {
      "name": "python3",
      "display_name": "Python 3"
    },
    "language_info": {
      "name": "python"
    }
  },
  "cells": [
    {
      "cell_type": "markdown",
      "metadata": {
        "id": "view-in-github",
        "colab_type": "text"
      },
      "source": [
        "<a href=\"https://colab.research.google.com/github/OneFineStarstuff/Cosmic-Brilliance/blob/main/train_py.ipynb\" target=\"_parent\"><img src=\"https://colab.research.google.com/assets/colab-badge.svg\" alt=\"Open In Colab\"/></a>"
      ]
    },
    {
      "cell_type": "code",
      "execution_count": null,
      "metadata": {
        "id": "xr_u0IoVenxa"
      },
      "outputs": [],
      "source": [
        "# train.py (minimal pattern)\n",
        "import torch\n",
        "import torch.nn as nn\n",
        "import torch.optim as optim\n",
        "from torch.utils.data import DataLoader, TensorDataset\n",
        "\n",
        "class Net(nn.Module):\n",
        "    def __init__(self, in_dim=32, hidden=64, out_dim=10):\n",
        "        super().__init__()\n",
        "        self.net = nn.Sequential(\n",
        "            nn.Linear(in_dim, hidden), nn.ReLU(),\n",
        "            nn.Linear(hidden, hidden), nn.ReLU(),\n",
        "            nn.Linear(hidden, out_dim)\n",
        "        )\n",
        "    def forward(self, x): return self.net(x)\n",
        "\n",
        "def main(args=None):\n",
        "    device = torch.device(\"cuda\" if torch.cuda.is_available() else \"cpu\")\n",
        "\n",
        "    # Toy data (replace with your dataset)\n",
        "    X = torch.randn(4096, 32)\n",
        "    y = torch.randint(0, 10, (4096,))\n",
        "    ds = TensorDataset(X, y)\n",
        "    dl = DataLoader(ds, batch_size=128, shuffle=True, num_workers=2, pin_memory=True)\n",
        "\n",
        "    model = Net().to(device)\n",
        "    try:\n",
        "        model = torch.compile(model, fullgraph=True)  # PyTorch 2.x optional speed-up\n",
        "    except Exception:\n",
        "        pass\n",
        "\n",
        "    opt = optim.AdamW(model.parameters(), lr=5e-4)\n",
        "    loss_fn = nn.CrossEntropyLoss()\n",
        "\n",
        "    epochs = 5\n",
        "    model.train()\n",
        "    for epoch in range(epochs):\n",
        "        for xb, yb in dl:\n",
        "            xb, yb = xb.to(device, non_blocking=True), yb.to(device, non_blocking=True)\n",
        "            logits = model(xb)\n",
        "            loss = loss_fn(logits, yb)\n",
        "            opt.zero_grad(set_to_none=True)\n",
        "            loss.backward()\n",
        "            opt.step()\n",
        "        print(f\"epoch {epoch+1}: loss={loss.item():.4f}\")\n",
        "\n",
        "if __name__ == \"__main__\":\n",
        "    main()"
      ]
    }
  ]
}