{
  "nbformat": 4,
  "nbformat_minor": 0,
  "metadata": {
    "colab": {
      "private_outputs": true,
      "provenance": [],
      "authorship_tag": "ABX9TyP8kYTxGEV1aaL+SnWYG57s",
      "include_colab_link": true
    },
    "kernelspec": {
      "name": "python3",
      "display_name": "Python 3"
    },
    "language_info": {
      "name": "python"
    }
  },
  "cells": [
    {
      "cell_type": "markdown",
      "metadata": {
        "id": "view-in-github",
        "colab_type": "text"
      },
      "source": [
        "<a href=\"https://colab.research.google.com/github/OneFineStarstuff/Cosmic-Brilliance/blob/main/tfq_hybrid_model_py.ipynb\" target=\"_parent\"><img src=\"https://colab.research.google.com/assets/colab-badge.svg\" alt=\"Open In Colab\"/></a>"
      ]
    },
    {
      "cell_type": "code",
      "execution_count": null,
      "metadata": {
        "id": "sR4XJefHQZHc"
      },
      "outputs": [],
      "source": [
        "!pip install cirq==1.0.0 tensorflow_quantum"
      ]
    },
    {
      "cell_type": "code",
      "source": [
        "#!/usr/bin/env python3\n",
        "\"\"\"\n",
        "tfq_hybrid_model.py\n",
        "\n",
        "Builds and trains a simple quantum-classical hybrid model\n",
        "using TensorFlow Quantum (TFQ) and Cirq.\n",
        "\"\"\"\n",
        "\n",
        "import cirq\n",
        "import sympy\n",
        "import numpy as np\n",
        "import tensorflow as tf\n",
        "import tensorflow_quantum as tfq\n",
        "from tensorflow.keras import layers, models\n",
        "\n",
        "def create_quantum_circuit():\n",
        "    # Two qubits on a grid and symbolic rotation gates\n",
        "    qubits = [cirq.GridQubit(0, i) for i in range(2)]\n",
        "    theta = sympy.symbols('theta0:2')\n",
        "    circuit = cirq.Circuit(\n",
        "        cirq.rx(theta[0])(qubits[0]),\n",
        "        cirq.ry(theta[1])(qubits[1]),\n",
        "        cirq.CNOT(qubits[0], qubits[1])\n",
        "    )\n",
        "    readouts = [cirq.Z(q) for q in qubits]\n",
        "    return circuit, readouts\n",
        "\n",
        "def prepare_data(num_samples=200):\n",
        "    # For demo: empty circuits + random binary labels\n",
        "    circuits = [cirq.Circuit() for _ in range(num_samples)]\n",
        "    labels = np.random.randint(0, 2, size=(num_samples, 1)).astype(np.float32)\n",
        "    return tfq.convert_to_tensor(circuits), labels\n",
        "\n",
        "def build_hybrid_model(circuit, readouts):\n",
        "    quantum_layer = tfq.layers.PQC(circuit, readouts)\n",
        "    model = models.Sequential([\n",
        "        layers.Input(shape=(), dtype=tf.string),\n",
        "        quantum_layer,                 # → shape (None, 2)\n",
        "        layers.Dense(16, activation='relu'),\n",
        "        layers.Dense(1, activation='sigmoid')\n",
        "    ])\n",
        "    model.compile(\n",
        "        optimizer=tf.keras.optimizers.Adam(0.01),\n",
        "        loss='binary_crossentropy',\n",
        "        metrics=['accuracy']\n",
        "    )\n",
        "    return model\n",
        "\n",
        "def main():\n",
        "    circuit, readouts = create_quantum_circuit()\n",
        "    x_data, y_data = prepare_data()\n",
        "    split = int(0.8 * len(x_data))\n",
        "    x_train, x_test = x_data[:split], x_data[split:]\n",
        "    y_train, y_test = y_data[:split], y_data[split:]\n",
        "\n",
        "    model = build_hybrid_model(circuit, readouts)\n",
        "    model.summary()\n",
        "\n",
        "    model.fit(\n",
        "        x_train, y_train,\n",
        "        epochs=20,\n",
        "        batch_size=16,\n",
        "        validation_data=(x_test, y_test),\n",
        "        verbose=2\n",
        "    )\n",
        "\n",
        "    loss, acc = model.evaluate(x_test, y_test, verbose=0)\n",
        "    print(f'\\nTest Loss: {loss:.4f} │ Test Accuracy: {acc:.4f}')\n",
        "\n",
        "    # Inspect raw quantum outputs for first 5 test samples\n",
        "    quantum_layer = model.layers[1]\n",
        "    sample_out = quantum_layer(x_test[:5])\n",
        "    print('\\nQuantum Layer Outputs:\\n', sample_out.numpy())\n",
        "\n",
        "if __name__ == '__main__':\n",
        "    main()"
      ],
      "metadata": {
        "id": "alOwYHRTRTlo"
      },
      "execution_count": null,
      "outputs": []
    }
  ]
}