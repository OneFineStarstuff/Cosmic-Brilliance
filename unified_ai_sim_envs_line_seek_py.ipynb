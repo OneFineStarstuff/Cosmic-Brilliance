{
  "nbformat": 4,
  "nbformat_minor": 0,
  "metadata": {
    "colab": {
      "private_outputs": true,
      "provenance": [],
      "authorship_tag": "ABX9TyNd871zBGESYKX6H4svlx2k",
      "include_colab_link": true
    },
    "kernelspec": {
      "name": "python3",
      "display_name": "Python 3"
    },
    "language_info": {
      "name": "python"
    }
  },
  "cells": [
    {
      "cell_type": "markdown",
      "metadata": {
        "id": "view-in-github",
        "colab_type": "text"
      },
      "source": [
        "<a href=\"https://colab.research.google.com/github/OneFineStarstuff/Cosmic-Brilliance/blob/main/unified_ai_sim_envs_line_seek_py.ipynb\" target=\"_parent\"><img src=\"https://colab.research.google.com/assets/colab-badge.svg\" alt=\"Open In Colab\"/></a>"
      ]
    },
    {
      "cell_type": "code",
      "execution_count": null,
      "metadata": {
        "id": "F2X9UhPFOaHX"
      },
      "outputs": [],
      "source": [
        "# unified_ai/sim/envs/line_seek.py\n",
        "from __future__ import annotations\n",
        "from dataclasses import dataclass\n",
        "import random\n",
        "import math\n",
        "import torch\n",
        "\n",
        "@dataclass\n",
        "class LineSeekConfig:\n",
        "    line_length: int\n",
        "    obs_noise_std: float\n",
        "    success_reward: float\n",
        "    step_penalty: float\n",
        "    steps_per_episode: int\n",
        "\n",
        "class LineSeekEnv:\n",
        "    \"\"\"\n",
        "    1D line world. Agent starts near 0; target hidden at integer position.\n",
        "    Observation: noisy signed distance d_t = (target - pos)/half_range + noise.\n",
        "    Actions: {-1, 0, +1}. Reward: -|distance| + step_penalty; success gives success_reward.\n",
        "    Episode ends on success or when step budget is exhausted.\n",
        "    \"\"\"\n",
        "    def __init__(self, cfg: LineSeekConfig, device: torch.device):\n",
        "        assert cfg.line_length % 2 == 1, \"line_length must be odd\"\n",
        "        self.cfg = cfg\n",
        "        self.device = device\n",
        "        self.half = cfg.line_length // 2\n",
        "        self.pos = 0\n",
        "        self.target = 0\n",
        "        self.t = 0\n",
        "\n",
        "    def reset(self, seed: int | None = None):\n",
        "        if seed is not None:\n",
        "            random.seed(seed)\n",
        "            torch.manual_seed(seed)\n",
        "        self.pos = 0\n",
        "        self.target = random.randint(-self.half, self.half)\n",
        "        self.t = 0\n",
        "        return self._obs()\n",
        "\n",
        "    def step(self, action: int):\n",
        "        self.t += 1\n",
        "        self.pos = max(-self.half, min(self.half, self.pos + int(action)))\n",
        "        dist = self.target - self.pos\n",
        "        done = (self.pos == self.target) or (self.t >= self.cfg.steps_per_episode)\n",
        "        reward = self.cfg.step_penalty - abs(dist) / self.half\n",
        "        success = False\n",
        "        if self.pos == self.target:\n",
        "            reward += self.cfg.success_reward\n",
        "            success = True\n",
        "        obs = self._obs()\n",
        "        info = {\"success\": success, \"dist\": dist, \"t\": self.t}\n",
        "        return obs, reward, done, info\n",
        "\n",
        "    def _obs(self):\n",
        "        dist = (self.target - self.pos) / max(1, self.half)\n",
        "        noise = torch.randn(1, device=self.device).item() * self.cfg.obs_noise_std\n",
        "        o = torch.tensor([self.pos / self.half, dist + noise], device=self.device, dtype=torch.float32)\n",
        "        return o"
      ]
    }
  ]
}