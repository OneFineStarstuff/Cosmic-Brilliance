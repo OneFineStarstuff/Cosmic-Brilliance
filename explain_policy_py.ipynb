{
  "nbformat": 4,
  "nbformat_minor": 0,
  "metadata": {
    "colab": {
      "private_outputs": true,
      "provenance": [],
      "authorship_tag": "ABX9TyPoBQ2f4NvM8huZkahg2ZHL",
      "include_colab_link": true
    },
    "kernelspec": {
      "name": "python3",
      "display_name": "Python 3"
    },
    "language_info": {
      "name": "python"
    }
  },
  "cells": [
    {
      "cell_type": "markdown",
      "metadata": {
        "id": "view-in-github",
        "colab_type": "text"
      },
      "source": [
        "<a href=\"https://colab.research.google.com/github/OneFineStarstuff/Cosmic-Brilliance/blob/main/explain_policy_py.ipynb\" target=\"_parent\"><img src=\"https://colab.research.google.com/assets/colab-badge.svg\" alt=\"Open In Colab\"/></a>"
      ]
    },
    {
      "cell_type": "code",
      "source": [
        "!pip install captum"
      ],
      "metadata": {
        "id": "qtCKwUZiiV5Y"
      },
      "execution_count": null,
      "outputs": []
    },
    {
      "cell_type": "code",
      "execution_count": null,
      "metadata": {
        "id": "aS4n2CvoiAPM"
      },
      "outputs": [],
      "source": [
        "import torch\n",
        "import captum.attr as ca\n",
        "\n",
        "def explain_policy(agent, obs):\n",
        "    \"\"\"\n",
        "    Compute feature attributions for the agent's chosen action\n",
        "    using Integrated Gradients.\n",
        "\n",
        "    Args:\n",
        "        agent: object with a .policy(torch.Tensor) -> action_scores method\n",
        "        obs:   numpy array or torch tensor of shape (features,) or (batch, features)\n",
        "\n",
        "    Returns:\n",
        "        numpy array of attributions with same shape as obs\n",
        "    \"\"\"\n",
        "    device = next(agent.policy.parameters()).device\n",
        "\n",
        "    # Ensure tensor, float32, and batch dimension\n",
        "    obs_t = torch.as_tensor(obs, dtype=torch.float32, device=device)\n",
        "    if obs_t.ndim == 1:\n",
        "        obs_t = obs_t.unsqueeze(0)\n",
        "\n",
        "    # Require gradients for IG\n",
        "    obs_t.requires_grad_(True)\n",
        "\n",
        "    # Forward pass to get action scores\n",
        "    act_scores = agent.policy(obs_t)\n",
        "\n",
        "    # Pick the action with highest score for the first sample\n",
        "    target_action = int(torch.argmax(act_scores[0]))\n",
        "\n",
        "    # Wrap forward function if agent.policy returns only scores\n",
        "    ig = ca.IntegratedGradients(agent.policy)\n",
        "\n",
        "    # Compute attributions\n",
        "    attributions = ig.attribute(obs_t, target=target_action)\n",
        "\n",
        "    # Detach, move to CPU, remove batch dim if needed\n",
        "    attributions = attributions.detach().cpu()\n",
        "    if attributions.shape[0] == 1:\n",
        "        attributions = attributions.squeeze(0)\n",
        "\n",
        "    return attributions.numpy()\n",
        "\n",
        "# --------------------------------------------------------------------\n",
        "# Example usage with a dummy policy network\n",
        "if __name__ == \"__main__\":\n",
        "    class DummyAgent:\n",
        "        def __init__(self, in_dim=4, out_dim=2):\n",
        "            self.policy = torch.nn.Sequential(\n",
        "                torch.nn.Linear(in_dim, 16),\n",
        "                torch.nn.ReLU(),\n",
        "                torch.nn.Linear(16, out_dim)\n",
        "            )\n",
        "        def to(self, device):\n",
        "            self.policy.to(device)\n",
        "            return self\n",
        "\n",
        "    # Create agent and move to GPU if available\n",
        "    device = torch.device(\"cuda\" if torch.cuda.is_available() else \"cpu\")\n",
        "    agent = DummyAgent().to(device)\n",
        "\n",
        "    # Fake observation\n",
        "    obs = [0.5, -1.2, 0.3, 2.0]\n",
        "\n",
        "    # Explain\n",
        "    attr = explain_policy(agent, obs)\n",
        "    print(\"Attributions:\", attr)"
      ]
    }
  ]
}