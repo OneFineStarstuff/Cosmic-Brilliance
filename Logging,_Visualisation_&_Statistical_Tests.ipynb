{
  "nbformat": 4,
  "nbformat_minor": 0,
  "metadata": {
    "colab": {
      "private_outputs": true,
      "provenance": [],
      "authorship_tag": "ABX9TyP7A06hIO1p90wwrNC0ywhX",
      "include_colab_link": true
    },
    "kernelspec": {
      "name": "python3",
      "display_name": "Python 3"
    },
    "language_info": {
      "name": "python"
    }
  },
  "cells": [
    {
      "cell_type": "markdown",
      "metadata": {
        "id": "view-in-github",
        "colab_type": "text"
      },
      "source": [
        "<a href=\"https://colab.research.google.com/github/OneFineStarstuff/Cosmic-Brilliance/blob/main/Logging%2C_Visualisation_%26_Statistical_Tests.ipynb\" target=\"_parent\"><img src=\"https://colab.research.google.com/assets/colab-badge.svg\" alt=\"Open In Colab\"/></a>"
      ]
    },
    {
      "cell_type": "code",
      "execution_count": null,
      "metadata": {
        "id": "p7FRc17Z-PhE"
      },
      "outputs": [],
      "source": [
        "# === cell 9: experiment logger ===\n",
        "import pathlib\n",
        "import datetime\n",
        "import json\n",
        "import pandas as pd\n",
        "from torch.utils.tensorboard import SummaryWriter\n",
        "\n",
        "# Create a timestamped run directory\n",
        "logdir = pathlib.Path(\"runs\") / datetime.datetime.now().strftime(\"%Y%m%d-%H%M%S\")\n",
        "logdir.mkdir(parents=True, exist_ok=True)\n",
        "\n",
        "# TensorBoard writer\n",
        "writer = SummaryWriter(log_dir=logdir.as_posix())\n",
        "\n",
        "# In-memory log for quick analysis (optional)\n",
        "episode_log = []\n",
        "\n",
        "def log_episode(ep_idx: int, reward: float, length: int, safety_cost: float):\n",
        "    \"\"\"\n",
        "    Logs a single episode's metrics to TensorBoard, JSONL file, and in-memory list.\n",
        "\n",
        "    Args:\n",
        "        ep_idx (int): Episode index.\n",
        "        reward (float): Episode reward.\n",
        "        length (int): Episode length (steps).\n",
        "        safety_cost (float): Safety cost metric.\n",
        "    \"\"\"\n",
        "    row = {\n",
        "        \"episode\": ep_idx,\n",
        "        \"reward\": reward,\n",
        "        \"length\": length,\n",
        "        \"safety\": safety_cost\n",
        "    }\n",
        "\n",
        "    # TensorBoard scalars\n",
        "    writer.add_scalar(\"reward/episode\", reward, ep_idx)\n",
        "    writer.add_scalar(\"safety/episode\", safety_cost, ep_idx)\n",
        "    writer.flush()  # ensure data is written to disk\n",
        "\n",
        "    # Append to JSONL file\n",
        "    with open(logdir / \"episodes.jsonl\", \"a\") as f:\n",
        "        f.write(json.dumps(row) + \"\\n\")\n",
        "\n",
        "    # Optional: keep in-memory DataFrame\n",
        "    episode_log.append(row)\n",
        "\n",
        "def get_episode_df() -> pd.DataFrame:\n",
        "    \"\"\"\n",
        "    Returns all logged episodes as a Pandas DataFrame.\n",
        "    \"\"\"\n",
        "    return pd.DataFrame(episode_log)\n",
        "\n",
        "def save_episode_csv(filename: str = \"episodes.csv\"):\n",
        "    \"\"\"\n",
        "    Saves all logged episodes to a CSV file in the log directory.\n",
        "    \"\"\"\n",
        "    df = get_episode_df()\n",
        "    csv_path = logdir / filename\n",
        "    df.to_csv(csv_path, index=False)\n",
        "    print(f\"Episode log saved to {csv_path}\")\n",
        "\n",
        "# Example usage:\n",
        "# for ep in range(10):\n",
        "#     log_episode(ep, reward=ep*1.5, length=100+ep, safety_cost=ep*0.1)\n",
        "# save_episode_csv()"
      ]
    }
  ]
}