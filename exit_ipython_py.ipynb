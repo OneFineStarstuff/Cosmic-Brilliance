{
  "nbformat": 4,
  "nbformat_minor": 0,
  "metadata": {
    "colab": {
      "private_outputs": true,
      "provenance": [],
      "authorship_tag": "ABX9TyOpRA3OeRDdH4gGzupElEYW",
      "include_colab_link": true
    },
    "kernelspec": {
      "name": "python3",
      "display_name": "Python 3"
    },
    "language_info": {
      "name": "python"
    }
  },
  "cells": [
    {
      "cell_type": "markdown",
      "metadata": {
        "id": "view-in-github",
        "colab_type": "text"
      },
      "source": [
        "<a href=\"https://colab.research.google.com/github/OneFineStarstuff/Cosmic-Brilliance/blob/main/exit_ipython_py.ipynb\" target=\"_parent\"><img src=\"https://colab.research.google.com/assets/colab-badge.svg\" alt=\"Open In Colab\"/></a>"
      ]
    },
    {
      "cell_type": "code",
      "execution_count": null,
      "metadata": {
        "id": "h5QKb0nrstJw"
      },
      "outputs": [],
      "source": [
        "#!/usr/bin/env python3\n",
        "\"\"\"\n",
        "exit_ipython.py\n",
        "\n",
        "Demonstrates exiting IPython via built-in commands rather than raw SystemExit.\n",
        "\"\"\"\n",
        "\n",
        "import sys\n",
        "\n",
        "def main():\n",
        "    print(\"Final AGI State: Never Existed.\")\n",
        "    try:\n",
        "        from IPython import get_ipython\n",
        "        # In a notebook or REPL, this will invoke quit/exit\n",
        "        get_ipython().exiter()\n",
        "    except Exception:\n",
        "        # Fall back to a clean process exit\n",
        "        sys.exit(0)\n",
        "\n",
        "if __name__ == \"__main__\":\n",
        "    main()"
      ]
    }
  ]
}