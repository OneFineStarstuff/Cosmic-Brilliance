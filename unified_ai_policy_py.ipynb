{
  "nbformat": 4,
  "nbformat_minor": 0,
  "metadata": {
    "colab": {
      "private_outputs": true,
      "provenance": [],
      "authorship_tag": "ABX9TyOF+8OHW7BQYLL9gE+NOMQL",
      "include_colab_link": true
    },
    "kernelspec": {
      "name": "python3",
      "display_name": "Python 3"
    },
    "language_info": {
      "name": "python"
    }
  },
  "cells": [
    {
      "cell_type": "markdown",
      "metadata": {
        "id": "view-in-github",
        "colab_type": "text"
      },
      "source": [
        "<a href=\"https://colab.research.google.com/github/OneFineStarstuff/Cosmic-Brilliance/blob/main/unified_ai_policy_py.ipynb\" target=\"_parent\"><img src=\"https://colab.research.google.com/assets/colab-badge.svg\" alt=\"Open In Colab\"/></a>"
      ]
    },
    {
      "cell_type": "code",
      "execution_count": null,
      "metadata": {
        "id": "bGPeJtD0Yd_r"
      },
      "outputs": [],
      "source": [
        "# unified_ai/policy.py\n",
        "from __future__ import annotations\n",
        "from typing import Dict\n",
        "import torch\n",
        "import torch.nn as nn\n",
        "\n",
        "class TextualPolicyToAction:\n",
        "    \"\"\"Maps action strings to dense actions via learned embedding.\"\"\"\n",
        "    def __init__(self, action_dim: int = 32, actions: Dict[str, int] | None = None):\n",
        "        self.actions = actions or {\n",
        "            \"move_left\": 0,\n",
        "            \"move_right\": 1,\n",
        "            \"move_up\": 2,\n",
        "            \"move_down\": 3,\n",
        "            \"pick\": 4,\n",
        "            \"place\": 5,\n",
        "            \"wait\": 6,\n",
        "            \"scan\": 7,\n",
        "        }\n",
        "        self.n = max(self.actions.values()) + 1\n",
        "        self.emb = nn.Embedding(self.n, action_dim)\n",
        "        with torch.no_grad():\n",
        "            torch.nn.init.normal_(self.emb.weight, std=0.2)\n",
        "\n",
        "    def __call__(self, action_text: str, device: torch.device, action_dim: int) -> torch.Tensor:\n",
        "        idx = torch.tensor(self.actions.get(action_text, 0), device=device, dtype=torch.long)\n",
        "        vec = self.emb(idx)  # (D,)\n",
        "        if vec.size(-1) != action_dim:\n",
        "            # Project if needed\n",
        "            W = torch.empty(vec.size(-1), action_dim, device=device)\n",
        "            nn.init.kaiming_uniform_(W, a=math.sqrt(5))\n",
        "            vec = vec @ W\n",
        "        return vec\n",
        "\n",
        "\n",
        "class SimpleReward:\n",
        "    \"\"\"Reward = -||h - g||^2 where g is a learnable or provided goal state.\"\"\"\n",
        "    def __init__(self, latent: int = 256):\n",
        "        self.goal = torch.zeros(latent)\n",
        "\n",
        "    def set_goal(self, g: torch.Tensor):\n",
        "        self.goal = g.detach()\n",
        "\n",
        "    def __call__(self, h: torch.Tensor) -> torch.Tensor:\n",
        "        g = self.goal.to(h.device).expand_as(h)\n",
        "        return -((h - g) ** 2).sum(dim=-1)"
      ]
    }
  ]
}