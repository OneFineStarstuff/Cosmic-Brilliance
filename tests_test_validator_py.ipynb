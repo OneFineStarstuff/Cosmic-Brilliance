{
  "nbformat": 4,
  "nbformat_minor": 0,
  "metadata": {
    "colab": {
      "private_outputs": true,
      "provenance": [],
      "authorship_tag": "ABX9TyOXi746IItTXrWkK2PcjVDl",
      "include_colab_link": true
    },
    "kernelspec": {
      "name": "python3",
      "display_name": "Python 3"
    },
    "language_info": {
      "name": "python"
    }
  },
  "cells": [
    {
      "cell_type": "markdown",
      "metadata": {
        "id": "view-in-github",
        "colab_type": "text"
      },
      "source": [
        "<a href=\"https://colab.research.google.com/github/OneFineStarstuff/Cosmic-Brilliance/blob/main/tests_test_validator_py.ipynb\" target=\"_parent\"><img src=\"https://colab.research.google.com/assets/colab-badge.svg\" alt=\"Open In Colab\"/></a>"
      ]
    },
    {
      "cell_type": "code",
      "execution_count": null,
      "metadata": {
        "id": "3JHolBLJNg4i"
      },
      "outputs": [],
      "source": [
        "# tests/test_validator.py\n",
        "import numpy as np\n",
        "from rge.validator import MetaValidator, ScoreReport\n",
        "\n",
        "class SO:\n",
        "    def __init__(self, t, y, states):\n",
        "        self.t, self.y, self.states = t, y, states\n",
        "\n",
        "def test_shapes_and_basic_scoring():\n",
        "    t = np.linspace(0, 1, 101)\n",
        "    y = np.vstack([np.exp(-t), -np.exp(-0.8*t)])\n",
        "    mv = MetaValidator()\n",
        "    rep = mv.score({\"equations\": [\"dx/dt = -x\", \"dy/dt = 0.8*y\"]}, SO(t, y, [\"x\",\"y\"]))\n",
        "    assert isinstance(rep, ScoreReport)\n",
        "    assert 0 <= rep.total <= 1\n",
        "\n",
        "def test_accuracy_with_ground_truth_improves_when_closer():\n",
        "    t = np.linspace(0,1,101)\n",
        "    gt = np.vstack([np.exp(-t), np.exp(-t)])\n",
        "    y_bad = gt + 0.5\n",
        "    y_good = gt + 0.05\n",
        "    mv = MetaValidator()\n",
        "    rep_bad = mv.score({\"equations\": [\"dx/dt=-x\",\"dy/dt=-y\"]}, SO(t, y_bad, [\"x\",\"y\"]), ground_truth=gt)\n",
        "    rep_good = mv.score({\"equations\": [\"dx/dt=-x\",\"dy/dt=-y\"]}, SO(t, y_good, [\"x\",\"y\"]), ground_truth=gt)\n",
        "    assert rep_good.components[\"accuracy\"] > rep_bad.components[\"accuracy\"]\n",
        "\n",
        "def test_simplicity_monotone_in_description_length():\n",
        "    t = np.linspace(0,1,11)\n",
        "    y = np.zeros((1,11))\n",
        "    mv = MetaValidator()\n",
        "    simple = mv.score({\"equations\": [\"dx/dt=-x\"]}, SO(t, y, [\"x\"]))\n",
        "    complex_eqs = [\"dx/dt=-x+sin(x)+cos(x)+x^2 - log(x) + exp(x)\"]\n",
        "    complex_ = mv.score({\"equations\": complex_eqs}, SO(t, y, [\"x\"]))\n",
        "    assert simple.components[\"simplicity\"] > complex_.components[\"simplicity\"]\n",
        "\n",
        "def test_novelty_deterministic():\n",
        "    t = np.linspace(0,1,11)\n",
        "    y = np.zeros((1,11))\n",
        "    mv = MetaValidator(seed=123)\n",
        "    rep1 = mv.score({\"equations\": [\"dx/dt=-x\"]}, SO(t, y, [\"x\"]))\n",
        "    rep2 = mv.score({\"equations\": [\"dx/dt=-x\"]}, SO(t, y, [\"x\"]))\n",
        "    assert rep1.components[\"novelty\"] == rep2.components[\"novelty\"]"
      ]
    }
  ]
}