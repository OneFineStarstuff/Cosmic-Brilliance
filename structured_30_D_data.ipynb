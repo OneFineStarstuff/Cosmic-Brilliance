{
  "nbformat": 4,
  "nbformat_minor": 0,
  "metadata": {
    "colab": {
      "private_outputs": true,
      "provenance": [],
      "authorship_tag": "ABX9TyOYXorPYcNLuF2eGn1F0yj5",
      "include_colab_link": true
    },
    "kernelspec": {
      "name": "python3",
      "display_name": "Python 3"
    },
    "language_info": {
      "name": "python"
    }
  },
  "cells": [
    {
      "cell_type": "markdown",
      "metadata": {
        "id": "view-in-github",
        "colab_type": "text"
      },
      "source": [
        "<a href=\"https://colab.research.google.com/github/OneFineStarstuff/Cosmic-Brilliance/blob/main/structured_30_D_data.ipynb\" target=\"_parent\"><img src=\"https://colab.research.google.com/assets/colab-badge.svg\" alt=\"Open In Colab\"/></a>"
      ]
    },
    {
      "cell_type": "code",
      "execution_count": null,
      "metadata": {
        "id": "Q5azYrlA0aUh"
      },
      "outputs": [],
      "source": [
        "import os\n",
        "import numpy as np\n",
        "import tensorflow as tf\n",
        "\n",
        "# Reproducibility\n",
        "SEED = 42\n",
        "np.random.seed(SEED)\n",
        "tf.random.set_seed(SEED)\n",
        "\n",
        "def make_gaussian_data(n_samples=6000, n_features=30, n_classes=10, std=0.6, seed=SEED):\n",
        "    rng = np.random.default_rng(seed)\n",
        "    # Create class centers in feature space\n",
        "    centers = rng.normal(loc=0.0, scale=2.0, size=(n_classes, n_features))\n",
        "    # Balanced classes\n",
        "    per_class = n_samples // n_classes\n",
        "    xs, ys = [], []\n",
        "    for c in range(n_classes):\n",
        "        x_c = centers[c] + rng.normal(0, std, size=(per_class, n_features))\n",
        "        y_c = np.full((per_class,), c, dtype=np.int32)\n",
        "        xs.append(x_c); ys.append(y_c)\n",
        "    X = np.vstack(xs).astype(\"float32\")\n",
        "    y = np.concatenate(ys).astype(\"int32\")\n",
        "    # Shuffle\n",
        "    idx = rng.permutation(len(X))\n",
        "    return X[idx], y[idx]\n",
        "\n",
        "# Data\n",
        "X, y = make_gaussian_data(n_samples=6000, n_features=30, n_classes=10, std=0.7)\n",
        "n = len(X)\n",
        "n_train = int(0.7 * n)\n",
        "n_val = int(0.15 * n)\n",
        "X_train, y_train = X[:n_train], y[:n_train]\n",
        "X_val, y_val = X[n_train:n_train+n_val], y[n_train:n_train+n_val]\n",
        "X_test, y_test = X[n_train+n_val:], y[n_train+n_val:]\n",
        "\n",
        "# tf.data pipelines\n",
        "batch_size = 128\n",
        "train_ds = tf.data.Dataset.from_tensor_slices((X_train, y_train)).shuffle(4096, seed=SEED).batch(batch_size).prefetch(tf.data.AUTOTUNE)\n",
        "val_ds   = tf.data.Dataset.from_tensor_slices((X_val, y_val)).batch(batch_size).prefetch(tf.data.AUTOTUNE)\n",
        "test_ds  = tf.data.Dataset.from_tensor_slices((X_test, y_test)).batch(batch_size).prefetch(tf.data.AUTOTUNE)\n",
        "\n",
        "# Model (your style, with a touch of regularization)\n",
        "class SpacetimeAI(tf.keras.Model):\n",
        "    def __init__(self):\n",
        "        super().__init__()\n",
        "        self.curvature_layer = tf.keras.layers.Dense(512, activation='tanh')\n",
        "        self.geodesic_layer  = tf.keras.layers.Dense(1024, activation='relu')\n",
        "        self.dropout         = tf.keras.layers.Dropout(0.2)\n",
        "        self.output_layer    = tf.keras.layers.Dense(10, activation='softmax')\n",
        "    def call(self, inputs, training=False):\n",
        "        x = self.curvature_layer(inputs)\n",
        "        x = self.geodesic_layer(x)\n",
        "        x = self.dropout(x, training=training)\n",
        "        return self.output_layer(x)\n",
        "\n",
        "model = SpacetimeAI()\n",
        "model.compile(\n",
        "    optimizer=tf.keras.optimizers.Adam(1e-3),\n",
        "    loss='sparse_categorical_crossentropy',\n",
        "    metrics=['accuracy']\n",
        ")\n",
        "\n",
        "# Callbacks\n",
        "os.makedirs(\"results\", exist_ok=True)\n",
        "callbacks = [\n",
        "    tf.keras.callbacks.EarlyStopping(monitor=\"val_accuracy\", patience=8, mode=\"max\", restore_best_weights=True),\n",
        "    tf.keras.callbacks.ReduceLROnPlateau(monitor=\"val_loss\", factor=0.5, patience=3, min_lr=1e-5),\n",
        "    tf.keras.callbacks.CSVLogger(\"results/training_history.csv\")\n",
        "]\n",
        "\n",
        "history = model.fit(train_ds, validation_data=val_ds, epochs=50, callbacks=callbacks, verbose=1)\n",
        "\n",
        "# Evaluate\n",
        "test_loss, test_acc = model.evaluate(test_ds, verbose=0)\n",
        "print(f\"Test accuracy: {test_acc:.4f}, Test loss: {test_loss:.4f}\")\n",
        "\n",
        "# Save model\n",
        "model.save(\"results/spacetime_ai.keras\")\n",
        "print(\"✅ Training history saved to results/training_history.csv\")\n",
        "print(\"✅ Model saved to results/spacetime_ai.keras\")"
      ]
    }
  ]
}