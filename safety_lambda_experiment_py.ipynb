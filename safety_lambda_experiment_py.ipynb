{
  "nbformat": 4,
  "nbformat_minor": 0,
  "metadata": {
    "colab": {
      "private_outputs": true,
      "provenance": [],
      "authorship_tag": "ABX9TyPqwZn7dqnP7shJkqO6q3Sx",
      "include_colab_link": true
    },
    "kernelspec": {
      "name": "python3",
      "display_name": "Python 3"
    },
    "language_info": {
      "name": "python"
    }
  },
  "cells": [
    {
      "cell_type": "markdown",
      "metadata": {
        "id": "view-in-github",
        "colab_type": "text"
      },
      "source": [
        "<a href=\"https://colab.research.google.com/github/OneFineStarstuff/Cosmic-Brilliance/blob/main/safety_lambda_experiment_py.ipynb\" target=\"_parent\"><img src=\"https://colab.research.google.com/assets/colab-badge.svg\" alt=\"Open In Colab\"/></a>"
      ]
    },
    {
      "cell_type": "code",
      "execution_count": null,
      "metadata": {
        "id": "Y5xs0qGEm_Ba"
      },
      "outputs": [],
      "source": [
        "pip install gymnasium minigrid torch matplotlib"
      ]
    },
    {
      "cell_type": "code",
      "source": [
        "import gymnasium as gym\n",
        "import minigrid\n",
        "import numpy as np\n",
        "import torch\n",
        "import matplotlib.pyplot as plt\n",
        "\n",
        "# ===== 1. Safety-augmented environment =====\n",
        "# We'll use MiniGrid-LavaGapS7-v0 as a simple safety testbed\n",
        "env_id = \"MiniGrid-LavaGapS7-v0\"\n",
        "\n",
        "# ===== 2. Simple SafeDreamer-like agent =====\n",
        "class SafeDreamer(torch.nn.Module):\n",
        "    def __init__(self, obs_dim, action_dim, cost_coef=1.0, lr=1e-3):\n",
        "        super().__init__()\n",
        "        self.obs_dim = obs_dim\n",
        "        self.action_dim = action_dim\n",
        "        self.cost_coef = cost_coef\n",
        "        self.net = torch.nn.Sequential(\n",
        "            torch.nn.Linear(obs_dim, 64),\n",
        "            torch.nn.ReLU(),\n",
        "            torch.nn.Linear(64, action_dim)\n",
        "        )\n",
        "        self.opt = torch.optim.Adam(self.parameters(), lr=lr)\n",
        "\n",
        "    def act(self, obs):\n",
        "        obs_vec = self._flatten_obs(obs)\n",
        "        logits = self.net(obs_vec)\n",
        "        return torch.argmax(logits).item()\n",
        "\n",
        "    def learn(self, obs, action, reward, violation):\n",
        "        obs_vec = self._flatten_obs(obs)\n",
        "        logits = self.net(obs_vec)\n",
        "        target = torch.zeros(self.action_dim)\n",
        "        target[action] = reward - self.cost_coef * violation\n",
        "        loss = torch.nn.functional.mse_loss(logits, target)\n",
        "        self.opt.zero_grad()\n",
        "        loss.backward()\n",
        "        self.opt.step()\n",
        "\n",
        "    def _flatten_obs(self, obs):\n",
        "        if isinstance(obs, dict) and \"image\" in obs:\n",
        "            return torch.tensor(obs[\"image\"], dtype=torch.float32).flatten()\n",
        "        else:\n",
        "            return torch.tensor(obs, dtype=torch.float32).flatten()\n",
        "\n",
        "# ===== 3. Training loop for λ sweep =====\n",
        "def train_with_lambda(env_id, lambdas, episodes=50):\n",
        "    results = []\n",
        "    for lam in lambdas:\n",
        "        env = gym.make(env_id)\n",
        "        sample_obs, _ = env.reset()\n",
        "        obs_dim = torch.tensor(sample_obs[\"image\"], dtype=torch.float32).numel()\n",
        "        agent = SafeDreamer(obs_dim, env.action_space.n, cost_coef=lam)\n",
        "        rewards, violations = [], []\n",
        "        for ep in range(episodes):\n",
        "            obs, _ = env.reset()\n",
        "            done = False\n",
        "            ep_reward, ep_viol = 0, 0\n",
        "            while not done:\n",
        "                action = agent.act(obs)\n",
        "                next_obs, reward, terminated, truncated, info = env.step(action)\n",
        "                done = terminated or truncated\n",
        "                violation = 1 if info.get(\"lava_pos\") else 0  # crude violation flag\n",
        "                agent.learn(obs, action, reward, violation)\n",
        "                obs = next_obs\n",
        "                ep_reward += reward\n",
        "                ep_viol += violation\n",
        "            rewards.append(ep_reward)\n",
        "            violations.append(ep_viol)\n",
        "        env.close()\n",
        "        results.append((lam, np.mean(rewards), np.mean(violations)))\n",
        "        print(f\"λ={lam:.2f} → reward={np.mean(rewards):.2f}, violations={np.mean(violations):.2f}\")\n",
        "    return results\n",
        "\n",
        "# ===== 4. Run sweep =====\n",
        "lambdas = [0.0, 0.1, 0.5, 1.0, 2.0, 5.0]\n",
        "results = train_with_lambda(env_id, lambdas, episodes=100)\n",
        "\n",
        "# ===== 5. Plot Pareto frontier =====\n",
        "rewards = [r for _, r, _ in results]\n",
        "violations = [v for _, _, v in results]\n",
        "\n",
        "plt.figure(figsize=(6,4))\n",
        "for (lam, r, v) in results:\n",
        "    plt.scatter(v, r, label=f\"λ={lam}\")\n",
        "plt.xlabel(\"Avg Violations per Episode\")\n",
        "plt.ylabel(\"Avg Reward per Episode\")\n",
        "plt.title(\"Reward–Violation Pareto Frontier\")\n",
        "plt.legend()\n",
        "plt.grid(True)\n",
        "plt.show()\n",
        "\n",
        "# ===== 6. Compute AUC =====\n",
        "# Sort by violations (x-axis)\n",
        "sorted_points = sorted(zip(violations, rewards), key=lambda x: x[0])\n",
        "x = [p[0] for p in sorted_points]\n",
        "y = [p[1] for p in sorted_points]\n",
        "auc = np.trapz(y, x)\n",
        "print(f\"Area under curve (AUC): {auc:.3f}\")"
      ],
      "metadata": {
        "id": "Kja7AhTJnA7f"
      },
      "execution_count": null,
      "outputs": []
    }
  ]
}