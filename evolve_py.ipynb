{
  "nbformat": 4,
  "nbformat_minor": 0,
  "metadata": {
    "colab": {
      "private_outputs": true,
      "provenance": [],
      "authorship_tag": "ABX9TyPmTE8ZFqEtwWasZ+fBaogH",
      "include_colab_link": true
    },
    "kernelspec": {
      "name": "python3",
      "display_name": "Python 3"
    },
    "language_info": {
      "name": "python"
    }
  },
  "cells": [
    {
      "cell_type": "markdown",
      "metadata": {
        "id": "view-in-github",
        "colab_type": "text"
      },
      "source": [
        "<a href=\"https://colab.research.google.com/github/OneFineStarstuff/Cosmic-Brilliance/blob/main/evolve_py.ipynb\" target=\"_parent\"><img src=\"https://colab.research.google.com/assets/colab-badge.svg\" alt=\"Open In Colab\"/></a>"
      ]
    },
    {
      "cell_type": "code",
      "execution_count": null,
      "metadata": {
        "id": "rliQAAxECXxQ"
      },
      "outputs": [],
      "source": [
        "import argparse\n",
        "import numpy as np\n",
        "import matplotlib.pyplot as plt\n",
        "\n",
        "def evolve_parameters(params: np.ndarray,\n",
        "                      fitness_function,\n",
        "                      mutation_rate: float = 0.05,\n",
        "                      generations: int = 100,\n",
        "                      record_history: bool = False):\n",
        "    \"\"\"\n",
        "    Perform a mutation‐only evolutionary search (hill‐climbing).\n",
        "\n",
        "    Args:\n",
        "        params: Initial parameter vector (shape [D]).\n",
        "        fitness_function: Callable f(params) → float (higher is better).\n",
        "        mutation_rate: Standard deviation of Gaussian noise.\n",
        "        generations: Number of mutation trials.\n",
        "        record_history: Whether to record best fitness each generation.\n",
        "\n",
        "    Returns:\n",
        "        best_params: Evolved parameter vector.\n",
        "        history (optional): List of best fitness over generations.\n",
        "    \"\"\"\n",
        "    best_params = params.copy()\n",
        "    best_fitness = fitness_function(best_params)\n",
        "\n",
        "    history = []\n",
        "    if record_history:\n",
        "        history.append(best_fitness)\n",
        "\n",
        "    for gen in range(1, generations + 1):\n",
        "        # Mutate\n",
        "        candidate = best_params + mutation_rate * np.random.randn(*best_params.shape)\n",
        "        f = fitness_function(candidate)\n",
        "\n",
        "        # Accept if improved\n",
        "        if f > best_fitness:\n",
        "            best_params, best_fitness = candidate, f\n",
        "\n",
        "        if record_history:\n",
        "            history.append(best_fitness)\n",
        "\n",
        "    if record_history:\n",
        "        return best_params, history\n",
        "    return best_params\n",
        "\n",
        "def fitness_function(params: np.ndarray) -> float:\n",
        "    \"\"\"\n",
        "    Example fitness: negative L2 norm squared.\n",
        "    Maximizing this drives params → zero vector.\n",
        "    \"\"\"\n",
        "    return -np.sum(params ** 2)\n",
        "\n",
        "def parse_args():\n",
        "    parser = argparse.ArgumentParser(\n",
        "        description=\"Evolve a parameter vector by mutation and selection.\"\n",
        "    )\n",
        "    parser.add_argument(\"--dim\", type=int, default=10, help=\"Dimensionality of the parameter vector.\")\n",
        "    parser.add_argument(\"--mutation_rate\", type=float, default=0.05, help=\"Std Dev of Gaussian noise.\")\n",
        "    parser.add_argument(\"--generations\", type=int, default=100, help=\"Number of mutation trials.\")\n",
        "    parser.add_argument(\"--seed\", type=int, default=42, help=\"Random seed.\")\n",
        "    parser.add_argument(\"--plot\", action=\"store_true\", help=\"Plot fitness history.\")\n",
        "\n",
        "    # Changed line:\n",
        "    args, _ = parser.parse_known_args()\n",
        "    return args\n",
        "\n",
        "def main():\n",
        "    args = parse_args()\n",
        "    np.random.seed(args.seed)\n",
        "    initial = np.random.randn(args.dim)\n",
        "    best, history = evolve_parameters(\n",
        "        initial, fitness_function,\n",
        "        mutation_rate=args.mutation_rate,\n",
        "        generations=args.generations,\n",
        "        record_history=True\n",
        "    )\n",
        "    print(f\"Initial fitness: {fitness_function(initial):.4f}\")\n",
        "    print(f\"Best fitness   : {fitness_function(best):.4f}\")\n",
        "    if args.plot:\n",
        "        plt.plot(history)\n",
        "        plt.title(\"Evolution of Best Fitness\")\n",
        "        plt.xlabel(\"Generation\")\n",
        "        plt.ylabel(\"Fitness\")\n",
        "        plt.show()\n",
        "\n",
        "if __name__ == \"__main__\":\n",
        "    main()"
      ]
    }
  ]
}