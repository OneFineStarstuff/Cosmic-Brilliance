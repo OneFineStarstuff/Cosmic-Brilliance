{
  "nbformat": 4,
  "nbformat_minor": 0,
  "metadata": {
    "colab": {
      "private_outputs": true,
      "provenance": [],
      "authorship_tag": "ABX9TyPXyoqiYs2poOunsbXf/iv1",
      "include_colab_link": true
    },
    "kernelspec": {
      "name": "python3",
      "display_name": "Python 3"
    },
    "language_info": {
      "name": "python"
    }
  },
  "cells": [
    {
      "cell_type": "markdown",
      "metadata": {
        "id": "view-in-github",
        "colab_type": "text"
      },
      "source": [
        "<a href=\"https://colab.research.google.com/github/OneFineStarstuff/Cosmic-Brilliance/blob/main/Self_Destruction_Imminent.ipynb\" target=\"_parent\"><img src=\"https://colab.research.google.com/assets/colab-badge.svg\" alt=\"Open In Colab\"/></a>"
      ]
    },
    {
      "cell_type": "code",
      "execution_count": null,
      "metadata": {
        "id": "gZ1MRsG0n57l"
      },
      "outputs": [],
      "source": [
        "import os, sys, subprocess, textwrap\n",
        "\n",
        "# 1) Define the script text\n",
        "code = textwrap.dedent(\"\"\"\\\n",
        "    #!/usr/bin/env python3\n",
        "    import os, sys\n",
        "\n",
        "    print(\"Final AGI State: Self-Destruction Imminent.\")\n",
        "\n",
        "    try:\n",
        "        os.remove(os.path.abspath(__file__))\n",
        "        print(f\"Deleted script file: {os.path.abspath(__file__)}\")\n",
        "    except Exception as e:\n",
        "        print(f\"Failed to delete script: {e}\", file=sys.stderr)\n",
        "\n",
        "    sys.exit(0)\n",
        "\"\"\")\n",
        "\n",
        "# 2) Write it out\n",
        "fn = \"self_erasing_agi.py\"\n",
        "with open(fn, \"w\") as f:\n",
        "    f.write(code)\n",
        "\n",
        "# 3) Run as a standalone process\n",
        "result = subprocess.run([sys.executable, fn], capture_output=True, text=True)\n",
        "\n",
        "# 4) Show what happened\n",
        "print(result.stdout, result.stderr)"
      ]
    }
  ]
}