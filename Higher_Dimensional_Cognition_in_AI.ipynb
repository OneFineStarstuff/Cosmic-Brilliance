{
  "nbformat": 4,
  "nbformat_minor": 0,
  "metadata": {
    "colab": {
      "private_outputs": true,
      "provenance": [],
      "authorship_tag": "ABX9TyO7LVXmsSFjWmP1rTBECYMp",
      "include_colab_link": true
    },
    "kernelspec": {
      "name": "python3",
      "display_name": "Python 3"
    },
    "language_info": {
      "name": "python"
    }
  },
  "cells": [
    {
      "cell_type": "markdown",
      "metadata": {
        "id": "view-in-github",
        "colab_type": "text"
      },
      "source": [
        "<a href=\"https://colab.research.google.com/github/OneFineStarstuff/Cosmic-Brilliance/blob/main/Higher_Dimensional_Cognition_in_AI.ipynb\" target=\"_parent\"><img src=\"https://colab.research.google.com/assets/colab-badge.svg\" alt=\"Open In Colab\"/></a>"
      ]
    },
    {
      "cell_type": "code",
      "execution_count": null,
      "metadata": {
        "id": "FBcUCbi3J57L"
      },
      "outputs": [],
      "source": [
        "import numpy as np\n",
        "import tensorflow as tf\n",
        "\n",
        "class HigherDimensionalAI(tf.keras.Model):\n",
        "    def __init__(self):\n",
        "        super().__init__()\n",
        "        self.dense1 = tf.keras.layers.Dense(128, activation='relu')\n",
        "        self.dense2 = tf.keras.layers.Dense(256, activation='relu')\n",
        "        self.dense3 = tf.keras.layers.Dense(512, activation='relu')  # Higher-dim projection\n",
        "        self.output_layer = tf.keras.layers.Dense(10, activation='softmax')\n",
        "\n",
        "    def call(self, inputs):\n",
        "        x = self.dense1(inputs)\n",
        "        x = self.dense2(x)\n",
        "        x = self.dense3(x)\n",
        "        return self.output_layer(x)\n",
        "\n",
        "# Reproducibility (optional, helpful in notebooks)\n",
        "np.random.seed(42)\n",
        "tf.random.set_seed(42)\n",
        "\n",
        "# Generate training data\n",
        "x_train = np.random.rand(1000, 10).astype(np.float32)\n",
        "y_train = np.random.randint(0, 10, size=(1000,)).astype(np.int32)\n",
        "\n",
        "# Train higher-dimensional AI\n",
        "model = HigherDimensionalAI()\n",
        "model.compile(optimizer='adam', loss='sparse_categorical_crossentropy', metrics=['accuracy'])\n",
        "model.fit(x_train, y_train, epochs=10, batch_size=32, validation_split=0.2, verbose=1)\n",
        "\n",
        "def build_model(input_dim=10, num_classes=10, l2=1e-4, dropout=0.2):\n",
        "    he = tf.keras.initializers.HeNormal()\n",
        "    reg = tf.keras.regularizers.l2(l2)\n",
        "\n",
        "    inputs = tf.keras.Input(shape=(input_dim,), name=\"features\")\n",
        "    x = tf.keras.layers.Dense(128, activation='relu', kernel_initializer=he, kernel_regularizer=reg)(inputs)\n",
        "    x = tf.keras.layers.Dropout(dropout)(x)\n",
        "    x = tf.keras.layers.Dense(256, activation='relu', kernel_initializer=he, kernel_regularizer=reg)(x)\n",
        "    x = tf.keras.layers.Dropout(dropout)(x)\n",
        "    x = tf.keras.layers.Dense(512, activation='relu', kernel_initializer=he, kernel_regularizer=reg)(x)\n",
        "    outputs = tf.keras.layers.Dense(num_classes, activation='softmax')(x)\n",
        "    return tf.keras.Model(inputs, outputs, name=\"HigherDimensionalAI\")\n",
        "\n",
        "def main():\n",
        "    # Reproducibility\n",
        "    np.random.seed(42)\n",
        "    tf.random.set_seed(42)\n",
        "\n",
        "    # Data\n",
        "    x = np.random.rand(1000, 10).astype(np.float32)\n",
        "    y = np.random.randint(0, 10, size=(1000,)).astype(np.int32)\n",
        "\n",
        "    # Model\n",
        "    model = build_model(input_dim=10, num_classes=10, l2=1e-4, dropout=0.2)\n",
        "    model.summary()\n",
        "\n",
        "    # Callbacks\n",
        "    cbs = [\n",
        "        tf.keras.callbacks.ReduceLROnPlateau(monitor=\"val_loss\", factor=0.5, patience=3, verbose=1),\n",
        "        tf.keras.callbacks.EarlyStopping(monitor=\"val_loss\", patience=8, restore_best_weights=True, verbose=1),\n",
        "    ]\n",
        "\n",
        "    # Compile + train\n",
        "    model.compile(optimizer=tf.keras.optimizers.Adam(1e-3),\n",
        "                  loss=\"sparse_categorical_crossentropy\",\n",
        "                  metrics=[\"accuracy\"])\n",
        "    model.fit(x, y, epochs=30, batch_size=64, validation_split=0.2, callbacks=cbs, verbose=1)\n",
        "\n",
        "    # Evaluate\n",
        "    loss, acc = model.evaluate(x, y, verbose=0)\n",
        "    print(f\"Final metrics — loss: {loss:.4f}, acc: {acc:.4f}\")\n",
        "\n",
        "if __name__ == \"__main__\":\n",
        "    main()"
      ]
    }
  ]
}