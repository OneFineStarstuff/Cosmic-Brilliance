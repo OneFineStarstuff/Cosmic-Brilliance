{
  "nbformat": 4,
  "nbformat_minor": 0,
  "metadata": {
    "colab": {
      "private_outputs": true,
      "provenance": [],
      "authorship_tag": "ABX9TyPe5+W96LI4u4JslRhADsr5",
      "include_colab_link": true
    },
    "kernelspec": {
      "name": "python3",
      "display_name": "Python 3"
    },
    "language_info": {
      "name": "python"
    }
  },
  "cells": [
    {
      "cell_type": "markdown",
      "metadata": {
        "id": "view-in-github",
        "colab_type": "text"
      },
      "source": [
        "<a href=\"https://colab.research.google.com/github/OneFineStarstuff/Cosmic-Brilliance/blob/main/traceback_in_ipython_py.ipynb\" target=\"_parent\"><img src=\"https://colab.research.google.com/assets/colab-badge.svg\" alt=\"Open In Colab\"/></a>"
      ]
    },
    {
      "cell_type": "code",
      "execution_count": null,
      "metadata": {
        "id": "ohH7oUZ-rnEE"
      },
      "outputs": [],
      "source": [
        "#!/usr/bin/env python3\n",
        "\"\"\"\n",
        "traceback_in_ipython.py\n",
        "\n",
        "Wraps the AGI script to print a full traceback inside IPython/Jupyter.\n",
        "\"\"\"\n",
        "\n",
        "import sys\n",
        "import traceback\n",
        "\n",
        "def main():\n",
        "    raise SystemExit(\"Final AGI State: Never Existed.\")\n",
        "\n",
        "if __name__ == \"__main__\":\n",
        "    try:\n",
        "        main()\n",
        "    except SystemExit as e:\n",
        "        # Convert to a regular exception so IPython shows a traceback\n",
        "        raise RuntimeError(f\"Caught SystemExit: {e}\") from None"
      ]
    }
  ]
}