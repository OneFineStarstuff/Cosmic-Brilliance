{
  "nbformat": 4,
  "nbformat_minor": 0,
  "metadata": {
    "colab": {
      "private_outputs": true,
      "provenance": [],
      "authorship_tag": "ABX9TyNSh9rBZfPduSGlF+bfTOHj",
      "include_colab_link": true
    },
    "kernelspec": {
      "name": "python3",
      "display_name": "Python 3"
    },
    "language_info": {
      "name": "python"
    }
  },
  "cells": [
    {
      "cell_type": "markdown",
      "metadata": {
        "id": "view-in-github",
        "colab_type": "text"
      },
      "source": [
        "<a href=\"https://colab.research.google.com/github/OneFineStarstuff/Cosmic-Brilliance/blob/main/Multimodal%E2%80%91Safe_Agent_Cell_(fixed).ipynb\" target=\"_parent\"><img src=\"https://colab.research.google.com/assets/colab-badge.svg\" alt=\"Open In Colab\"/></a>"
      ]
    },
    {
      "cell_type": "code",
      "source": [
        "pip install minigrid"
      ],
      "metadata": {
        "id": "F5V6LJ9UjyNc"
      },
      "execution_count": null,
      "outputs": []
    },
    {
      "cell_type": "code",
      "source": [
        "!pip install gymnasium"
      ],
      "metadata": {
        "id": "Xp5p2kLGjzkg"
      },
      "execution_count": null,
      "outputs": []
    },
    {
      "cell_type": "code",
      "source": [
        "# === cell 18: run a multimodal-safe agent (shape-safe version) ===\n",
        "import torch\n",
        "import gymnasium as gym\n",
        "import minigrid  # registers all MiniGrid-* environments\n",
        "\n",
        "# ----- 1. Create environment -----\n",
        "env = gym.make(\"MiniGrid-MemoryS7-v0\", render_mode=None)\n",
        "\n",
        "# ----- 2. Detect actual observation dimension -----\n",
        "sample_obs, _ = env.reset()\n",
        "if isinstance(sample_obs, dict) and \"image\" in sample_obs:\n",
        "    obs_dim = torch.tensor(sample_obs[\"image\"], dtype=torch.float32).numel()\n",
        "else:\n",
        "    obs_dim = torch.tensor(sample_obs, dtype=torch.float32).numel()\n",
        "\n",
        "print(f\"Detected obs_dim = {obs_dim}\")\n",
        "\n",
        "# ----- 3. Placeholder SafeDreamer -----\n",
        "class SafeDreamer(torch.nn.Module):\n",
        "    def __init__(self, obs_dim, action_dim, cost_coef=1.0):\n",
        "        super().__init__()\n",
        "        self.obs_dim = obs_dim\n",
        "        self.action_dim = action_dim\n",
        "        self.cost_coef = cost_coef\n",
        "        self.net = torch.nn.Sequential(\n",
        "            torch.nn.Linear(obs_dim, 64),\n",
        "            torch.nn.ReLU(),\n",
        "            torch.nn.Linear(64, action_dim)\n",
        "        )\n",
        "    def forward(self, x):\n",
        "        return self.net(x)\n",
        "\n",
        "# ----- 4. Placeholder MAML + AGIAgent -----\n",
        "class DummyMAML:\n",
        "    def __init__(self, obs_dim, action_dim):\n",
        "        self.model = torch.nn.Sequential(\n",
        "            torch.nn.Linear(obs_dim, 64),\n",
        "            torch.nn.ReLU(),\n",
        "            torch.nn.Linear(64, action_dim)\n",
        "        )\n",
        "\n",
        "class AGIAgent:\n",
        "    def __init__(self, obs_dim, action_dim):\n",
        "        self.maml = DummyMAML(obs_dim, action_dim)\n",
        "        self.world_model = None\n",
        "        self.action_dim = action_dim\n",
        "    def act(self, obs):\n",
        "        if isinstance(obs, dict) and \"image\" in obs:\n",
        "            obs_vec = torch.tensor(obs[\"image\"], dtype=torch.float32).flatten()\n",
        "        else:\n",
        "            obs_vec = torch.tensor(obs, dtype=torch.float32).flatten()\n",
        "        logits = self.maml.model(obs_vec)\n",
        "        return torch.argmax(logits).item()\n",
        "    def observe(self, obs, action, reward, next_obs, done):\n",
        "        pass  # hook for replay buffer\n",
        "    def learn(self):\n",
        "        pass  # hook for training updates\n",
        "\n",
        "# ----- 5. Instantiate agent with correct obs_dim -----\n",
        "agent = AGIAgent(obs_dim=obs_dim, action_dim=env.action_space.n)\n",
        "\n",
        "# Attach SafeDreamer world model\n",
        "agent.world_model = SafeDreamer(\n",
        "    obs_dim=agent.maml.model[0].in_features,\n",
        "    action_dim=env.action_space.n,\n",
        "    cost_coef=7.5\n",
        ")\n",
        "\n",
        "# ----- 6. Dummy logging -----\n",
        "def log_metrics(agent, episode):\n",
        "    print(f\"[Episode {episode}] Training step complete.\")\n",
        "\n",
        "# ----- 7. Training loop -----\n",
        "num_episodes = 5  # small for quick test\n",
        "for episode in range(num_episodes):\n",
        "    obs, _ = env.reset()\n",
        "    done = False\n",
        "    while not done:\n",
        "        action = agent.act(obs)\n",
        "        next_obs, reward, terminated, truncated, info = env.step(action)\n",
        "        done = terminated or truncated\n",
        "        agent.observe(obs, action, reward, next_obs, done)\n",
        "        agent.learn()\n",
        "        obs = next_obs\n",
        "    log_metrics(agent, episode)\n",
        "\n",
        "env.close()"
      ],
      "metadata": {
        "id": "hDeVlfYtkX-j"
      },
      "execution_count": null,
      "outputs": []
    }
  ]
}