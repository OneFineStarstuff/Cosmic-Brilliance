{
  "nbformat": 4,
  "nbformat_minor": 0,
  "metadata": {
    "colab": {
      "private_outputs": true,
      "provenance": [],
      "authorship_tag": "ABX9TyNzq41kDVyfhWlhDCeiFuNp",
      "include_colab_link": true
    },
    "kernelspec": {
      "name": "python3",
      "display_name": "Python 3"
    },
    "language_info": {
      "name": "python"
    }
  },
  "cells": [
    {
      "cell_type": "markdown",
      "metadata": {
        "id": "view-in-github",
        "colab_type": "text"
      },
      "source": [
        "<a href=\"https://colab.research.google.com/github/OneFineStarstuff/Cosmic-Brilliance/blob/main/SymbolicReasoner.ipynb\" target=\"_parent\"><img src=\"https://colab.research.google.com/assets/colab-badge.svg\" alt=\"Open In Colab\"/></a>"
      ]
    },
    {
      "cell_type": "code",
      "execution_count": null,
      "metadata": {
        "id": "KTvDrDKFIZeD"
      },
      "outputs": [],
      "source": [
        "import sympy\n",
        "from sympy import Implies\n",
        "\n",
        "class SymbolicReasoner:\n",
        "    def __init__(self, axioms: list[str]):\n",
        "        # Parse each axiom via our custom helper\n",
        "        self.axioms = [self._parse_axiom(a) for a in axioms]\n",
        "\n",
        "    def _parse_axiom(self, axiom_str: str) -> sympy.Expr:\n",
        "        # If you see \"A >> B\", convert to Implies(A, B)\n",
        "        if \">>\" in axiom_str:\n",
        "            lhs_str, rhs_str = map(str.strip, axiom_str.split(\">>\", 1))\n",
        "            lhs = sympy.sympify(lhs_str)\n",
        "            rhs = sympy.sympify(rhs_str)\n",
        "            return Implies(lhs, rhs)\n",
        "        # Otherwise just sympify straight\n",
        "        return sympy.sympify(axiom_str)\n",
        "\n",
        "    def query(self, formula: str) -> bool:\n",
        "        φ = sympy.sympify(formula)\n",
        "        # Check if axioms ⇒ φ is a tautology via unsatisfiable negation\n",
        "        conj = sympy.And(*self.axioms, sympy.Not(φ))\n",
        "        return not sympy.satisfiable(conj)"
      ]
    }
  ]
}