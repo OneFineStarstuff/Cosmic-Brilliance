{
  "nbformat": 4,
  "nbformat_minor": 0,
  "metadata": {
    "colab": {
      "private_outputs": true,
      "provenance": [],
      "authorship_tag": "ABX9TyOS+N1NuXKt7EnwJIRJm8GJ",
      "include_colab_link": true
    },
    "kernelspec": {
      "name": "python3",
      "display_name": "Python 3"
    },
    "language_info": {
      "name": "python"
    }
  },
  "cells": [
    {
      "cell_type": "markdown",
      "metadata": {
        "id": "view-in-github",
        "colab_type": "text"
      },
      "source": [
        "<a href=\"https://colab.research.google.com/github/OneFineStarstuff/Cosmic-Brilliance/blob/main/Vision_Encoder_Adapter_and_Fusion_Prompt.ipynb\" target=\"_parent\"><img src=\"https://colab.research.google.com/assets/colab-badge.svg\" alt=\"Open In Colab\"/></a>"
      ]
    },
    {
      "cell_type": "code",
      "execution_count": null,
      "metadata": {
        "id": "KokOmvfYf0oD"
      },
      "outputs": [],
      "source": [
        "import base64\n",
        "import torch\n",
        "from PIL import Image\n",
        "from transformers import CLIPProcessor, CLIPModel\n",
        "\n",
        "_CLIP_ID = \"openai/clip-vit-base-patch32\"\n",
        "processor = CLIPProcessor.from_pretrained(_CLIP_ID)\n",
        "clip_model = CLIPModel.from_pretrained(_CLIP_ID).to(\"cuda\")\n",
        "\n",
        "def image_to_embedding(img_path: str) -> torch.Tensor:\n",
        "    \"\"\"Load image and return its CLIP embedding (1, 512).\"\"\"\n",
        "    im = Image.open(img_path).convert(\"RGB\")\n",
        "    inputs = processor(images=im, return_tensors=\"pt\").to(\"cuda\")\n",
        "    with torch.no_grad():\n",
        "        features = clip_model.get_image_features(**inputs)\n",
        "    return features\n",
        "\n",
        "def multimodal_prompt(img_emb: torch.Tensor, text_context: str, n: int = 3) -> str:\n",
        "    \"\"\"Build a multimodal prompt that incorporates image signature + text context.\"\"\"\n",
        "    # normalise for stability\n",
        "    norm_emb = img_emb / img_emb.norm(dim=-1, keepdim=True)\n",
        "    # float16 for compactness, base16 for text safety\n",
        "    img_sig = base64.b16encode(norm_emb.cpu().numpy().astype('float16')).decode()[:128]\n",
        "    return (\n",
        "        f\"You are a multimodal researcher.\\n\"\n",
        "        f\"IMAGE_SIG: {img_sig}\\n\"\n",
        "        f\"Context:\\n{text_context.strip()}\\n\\n\"\n",
        "        f\"Generate {n} deep, open-ended questions integrating visual insights.\"\n",
        "    )\n",
        "\n",
        "if __name__ == \"__main__\":\n",
        "    emb = image_to_embedding(\"example.jpg\")\n",
        "    prompt = multimodal_prompt(emb, \"Microscopy image of novel crystalline structure\", n=5)\n",
        "    print(prompt)"
      ]
    }
  ]
}