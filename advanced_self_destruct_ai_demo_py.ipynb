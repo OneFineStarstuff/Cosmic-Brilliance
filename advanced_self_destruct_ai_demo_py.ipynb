{
  "nbformat": 4,
  "nbformat_minor": 0,
  "metadata": {
    "colab": {
      "private_outputs": true,
      "provenance": [],
      "authorship_tag": "ABX9TyPXPMcCvNiY6OXk0ZdADYEb",
      "include_colab_link": true
    },
    "kernelspec": {
      "name": "python3",
      "display_name": "Python 3"
    },
    "language_info": {
      "name": "python"
    }
  },
  "cells": [
    {
      "cell_type": "markdown",
      "metadata": {
        "id": "view-in-github",
        "colab_type": "text"
      },
      "source": [
        "<a href=\"https://colab.research.google.com/github/OneFineStarstuff/Cosmic-Brilliance/blob/main/advanced_self_destruct_ai_demo_py.ipynb\" target=\"_parent\"><img src=\"https://colab.research.google.com/assets/colab-badge.svg\" alt=\"Open In Colab\"/></a>"
      ]
    },
    {
      "cell_type": "code",
      "execution_count": null,
      "metadata": {
        "id": "x6h7Yqy1hLUX"
      },
      "outputs": [],
      "source": [
        "# In your notebook cell:\n",
        "%matplotlib inline\n",
        "import matplotlib.pyplot as plt\n",
        "import pandas as pd\n",
        "import torch\n",
        "\n",
        "# Import the class (adjust path as needed)\n",
        "from advanced_self_destruct_ai import AdvancedSelfDestructAI\n",
        "\n",
        "def run_and_record(decay, **kwargs):\n",
        "    model = AdvancedSelfDestructAI(decay=decay, **kwargs)\n",
        "    sample = torch.tensor([model.init_state])\n",
        "    phases = model.phases\n",
        "\n",
        "    states, outputs = [], []\n",
        "    reflections = None\n",
        "\n",
        "    # Run until self-destruct\n",
        "    while True:\n",
        "        result = model(sample)\n",
        "        if isinstance(result, tuple):\n",
        "            out, reflections = result\n",
        "            states.append(float(model.null_state))  # should be zero\n",
        "            outputs.append(float(out))\n",
        "            break\n",
        "        elif result is None:\n",
        "            break\n",
        "        outputs.append(float(result))\n",
        "        states.append(float(model.null_state))\n",
        "\n",
        "    return {\n",
        "        \"decay\": decay,\n",
        "        \"states\": states,\n",
        "        \"outputs\": outputs,\n",
        "        \"reflection\": reflections.tolist() if reflections is not None else None\n",
        "    }\n",
        "\n",
        "# Parameters\n",
        "params = dict(init_state=1e6, phases=10, poly_degree=2.5, sigmoid_steepness=8.0, random_death_prob=0.0)\n",
        "\n",
        "# Run for each schedule\n",
        "schedules = [\"linear\", \"exponential\", \"polynomial\", \"sigmoid\"]\n",
        "results = [run_and_record(d, **params) for d in schedules]\n",
        "\n",
        "# Plotting\n",
        "plt.figure(figsize=(10, 6))\n",
        "for res in results:\n",
        "    plt.plot(res[\"states\"], label=res[\"decay\"])\n",
        "plt.xlabel(\"Step\")\n",
        "plt.ylabel(\"null_state\")\n",
        "plt.title(\"AGI Null-State Decay by Schedule\")\n",
        "plt.legend()\n",
        "plt.grid(True)\n",
        "plt.show()\n",
        "\n",
        "# Build a summary table\n",
        "rows = []\n",
        "for res in results:\n",
        "    ref = res[\"reflection\"] or [None]*5\n",
        "    rows.append({\n",
        "        \"Schedule\": res[\"decay\"],\n",
        "        \"Initial\": ref[0],\n",
        "        \"Final\": ref[1],\n",
        "        \"Mean\": ref[2],\n",
        "        \"StdDev\": ref[3],\n",
        "        \"Snapshots\": ref[4],\n",
        "    })\n",
        "\n",
        "df = pd.DataFrame(rows)\n",
        "print(\"Final Reflection Comparison:\")\n",
        "display(df)"
      ]
    }
  ]
}